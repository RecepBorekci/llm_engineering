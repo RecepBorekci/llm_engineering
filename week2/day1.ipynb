{
 "cells": [
  {
   "cell_type": "markdown",
   "id": "06cf3063-9f3e-4551-a0d5-f08d9cabb927",
   "metadata": {},
   "source": [
    "# Welcome to Week 2!\n",
    "\n",
    "## Frontier Model APIs\n",
    "\n",
    "In Week 1, we used multiple Frontier LLMs through their Chat UI, and we connected with the OpenAI's API.\n",
    "\n",
    "Today we'll connect with the APIs for Anthropic and Google, as well as OpenAI."
   ]
  },
  {
   "cell_type": "markdown",
   "id": "2b268b6e-0ba4-461e-af86-74a41f4d681f",
   "metadata": {},
   "source": [
    "<table style=\"margin: 0; text-align: left;\">\n",
    "    <tr>\n",
    "        <td style=\"width: 150px; height: 150px; vertical-align: middle;\">\n",
    "            <img src=\"../important.jpg\" width=\"150\" height=\"150\" style=\"display: block;\" />\n",
    "        </td>\n",
    "        <td>\n",
    "            <h2 style=\"color:#900;\">Important Note - Please read me</h2>\n",
    "            <span style=\"color:#900;\">I'm continually improving these labs, adding more examples and exercises.\n",
    "            At the start of each week, it's worth checking you have the latest code.<br/>\n",
    "            First do a <a href=\"https://chatgpt.com/share/6734e705-3270-8012-a074-421661af6ba9\">git pull and merge your changes as needed</a>. Any problems? Try asking ChatGPT to clarify how to merge - or contact me!<br/><br/>\n",
    "            After you've pulled the code, from the llm_engineering directory, in an Anaconda prompt (PC) or Terminal (Mac), run:<br/>\n",
    "            <code>conda env update --f environment.yml</code><br/>\n",
    "            Or if you used virtualenv rather than Anaconda, then run this from your activated environment in a Powershell (PC) or Terminal (Mac):<br/>\n",
    "            <code>pip install -r requirements.txt</code>\n",
    "            <br/>Then restart the kernel (Kernel menu >> Restart Kernel and Clear Outputs Of All Cells) to pick up the changes.\n",
    "            </span>\n",
    "        </td>\n",
    "    </tr>\n",
    "</table>\n",
    "<table style=\"margin: 0; text-align: left;\">\n",
    "    <tr>\n",
    "        <td style=\"width: 150px; height: 150px; vertical-align: middle;\">\n",
    "            <img src=\"../resources.jpg\" width=\"150\" height=\"150\" style=\"display: block;\" />\n",
    "        </td>\n",
    "        <td>\n",
    "            <h2 style=\"color:#f71;\">Reminder about the resources page</h2>\n",
    "            <span style=\"color:#f71;\">Here's a link to resources for the course. This includes links to all the slides.<br/>\n",
    "            <a href=\"https://edwarddonner.com/2024/11/13/llm-engineering-resources/\">https://edwarddonner.com/2024/11/13/llm-engineering-resources/</a><br/>\n",
    "            Please keep this bookmarked, and I'll continue to add more useful links there over time.\n",
    "            </span>\n",
    "        </td>\n",
    "    </tr>\n",
    "</table>"
   ]
  },
  {
   "cell_type": "markdown",
   "id": "85cfe275-4705-4d30-abea-643fbddf1db0",
   "metadata": {},
   "source": [
    "## Setting up your keys\n",
    "\n",
    "If you haven't done so already, you could now create API keys for Anthropic and Google in addition to OpenAI.\n",
    "\n",
    "**Please note:** if you'd prefer to avoid extra API costs, feel free to skip setting up Anthopic and Google! You can see me do it, and focus on OpenAI for the course. You could also substitute Anthropic and/or Google for Ollama, using the exercise you did in week 1.\n",
    "\n",
    "For OpenAI, visit https://openai.com/api/  \n",
    "For Anthropic, visit https://console.anthropic.com/  \n",
    "For Google, visit https://ai.google.dev/gemini-api  \n",
    "\n",
    "### Also - adding DeepSeek if you wish\n",
    "\n",
    "Optionally, if you'd like to also use DeepSeek, create an account [here](https://platform.deepseek.com/), create a key [here](https://platform.deepseek.com/api_keys) and top up with at least the minimum $2 [here](https://platform.deepseek.com/top_up).\n",
    "\n",
    "### Adding API keys to your .env file\n",
    "\n",
    "When you get your API keys, you need to set them as environment variables by adding them to your `.env` file.\n",
    "\n",
    "```\n",
    "OPENAI_API_KEY=xxxx\n",
    "ANTHROPIC_API_KEY=xxxx\n",
    "GOOGLE_API_KEY=xxxx\n",
    "DEEPSEEK_API_KEY=xxxx\n",
    "```\n",
    "\n",
    "Afterwards, you may need to restart the Jupyter Lab Kernel (the Python process that sits behind this notebook) via the Kernel menu, and then rerun the cells from the top."
   ]
  },
  {
   "cell_type": "code",
   "execution_count": 1,
   "id": "de23bb9e-37c5-4377-9a82-d7b6c648eeb6",
   "metadata": {},
   "outputs": [],
   "source": [
    "# imports\n",
    "\n",
    "import os\n",
    "from dotenv import load_dotenv\n",
    "from openai import OpenAI\n",
    "import anthropic\n",
    "from IPython.display import Markdown, display, update_display"
   ]
  },
  {
   "cell_type": "code",
   "execution_count": 2,
   "id": "f0a8ab2b-6134-4104-a1bc-c3cd7ea4cd36",
   "metadata": {},
   "outputs": [],
   "source": [
    "# import for google\n",
    "# in rare cases, this seems to give an error on some systems, or even crashes the kernel\n",
    "# If this happens to you, simply ignore this cell - I give an alternative approach for using Gemini later\n",
    "\n",
    "import google.generativeai"
   ]
  },
  {
   "cell_type": "code",
   "execution_count": 3,
   "id": "1179b4c5-cd1f-4131-a876-4c9f3f38d2ba",
   "metadata": {},
   "outputs": [
    {
     "name": "stdout",
     "output_type": "stream",
     "text": [
      "OpenAI API Key exists and begins sk-proj-\n",
      "Anthropic API Key exists and begins sk-ant-\n",
      "Google API Key exists and begins AIzaSyB6\n"
     ]
    }
   ],
   "source": [
    "# Load environment variables in a file called .env\n",
    "# Print the key prefixes to help with any debugging\n",
    "\n",
    "load_dotenv(override=True)\n",
    "openai_api_key = os.getenv('OPENAI_API_KEY')\n",
    "anthropic_api_key = os.getenv('ANTHROPIC_API_KEY')\n",
    "google_api_key = os.getenv('GOOGLE_API_KEY')\n",
    "\n",
    "if openai_api_key:\n",
    "    print(f\"OpenAI API Key exists and begins {openai_api_key[:8]}\")\n",
    "else:\n",
    "    print(\"OpenAI API Key not set\")\n",
    "    \n",
    "if anthropic_api_key:\n",
    "    print(f\"Anthropic API Key exists and begins {anthropic_api_key[:7]}\")\n",
    "else:\n",
    "    print(\"Anthropic API Key not set\")\n",
    "\n",
    "if google_api_key:\n",
    "    print(f\"Google API Key exists and begins {google_api_key[:8]}\")\n",
    "else:\n",
    "    print(\"Google API Key not set\")"
   ]
  },
  {
   "cell_type": "code",
   "execution_count": 4,
   "id": "797fe7b0-ad43-42d2-acf0-e4f309b112f0",
   "metadata": {},
   "outputs": [],
   "source": [
    "# Connect to OpenAI, Anthropic\n",
    "\n",
    "openai = OpenAI()\n",
    "\n",
    "claude = anthropic.Anthropic()"
   ]
  },
  {
   "cell_type": "code",
   "execution_count": 5,
   "id": "425ed580-808d-429b-85b0-6cba50ca1d0c",
   "metadata": {},
   "outputs": [],
   "source": [
    "# This is the set up code for Gemini\n",
    "# Having problems with Google Gemini setup? Then just ignore this cell; when we use Gemini, I'll give you an alternative that bypasses this library altogether\n",
    "\n",
    "google.generativeai.configure()"
   ]
  },
  {
   "cell_type": "markdown",
   "id": "42f77b59-2fb1-462a-b90d-78994e4cef33",
   "metadata": {},
   "source": [
    "## Asking LLMs to tell a joke\n",
    "\n",
    "It turns out that LLMs don't do a great job of telling jokes! Let's compare a few models.\n",
    "Later we will be putting LLMs to better use!\n",
    "\n",
    "### What information is included in the API\n",
    "\n",
    "Typically we'll pass to the API:\n",
    "- The name of the model that should be used\n",
    "- A system message that gives overall context for the role the LLM is playing\n",
    "- A user message that provides the actual prompt\n",
    "\n",
    "There are other parameters that can be used, including **temperature** which is typically between 0 and 1; higher for more random output; lower for more focused and deterministic."
   ]
  },
  {
   "cell_type": "code",
   "execution_count": 6,
   "id": "378a0296-59a2-45c6-82eb-941344d3eeff",
   "metadata": {},
   "outputs": [],
   "source": [
    "system_message = \"You are an assistant that is great at telling jokes\"\n",
    "user_prompt = \"Tell a light-hearted joke for an audience of Data Scientists\""
   ]
  },
  {
   "cell_type": "code",
   "execution_count": 7,
   "id": "f4d56a0f-2a3d-484d-9344-0efa6862aff4",
   "metadata": {},
   "outputs": [],
   "source": [
    "prompts = [\n",
    "    {\"role\": \"system\", \"content\": system_message},\n",
    "    {\"role\": \"user\", \"content\": user_prompt}\n",
    "  ]"
   ]
  },
  {
   "cell_type": "code",
   "execution_count": 8,
   "id": "3b3879b6-9a55-4fed-a18c-1ea2edfaf397",
   "metadata": {},
   "outputs": [
    {
     "name": "stdout",
     "output_type": "stream",
     "text": [
      "Why did the data scientist break up with their calculator?\n",
      "\n",
      "Because it couldn't handle their complex relationship!\n"
     ]
    }
   ],
   "source": [
    "# GPT-3.5-Turbo\n",
    "\n",
    "completion = openai.chat.completions.create(model='gpt-3.5-turbo', messages=prompts)\n",
    "print(completion.choices[0].message.content)"
   ]
  },
  {
   "cell_type": "code",
   "execution_count": 9,
   "id": "3d2d6beb-1b81-466f-8ed1-40bf51e7adbf",
   "metadata": {},
   "outputs": [
    {
     "name": "stdout",
     "output_type": "stream",
     "text": [
      "Why did the data scientist bring a ladder to work?\n",
      "\n",
      "Because they wanted to reach new heights in their analysis!\n"
     ]
    }
   ],
   "source": [
    "# GPT-4o-mini\n",
    "# Temperature setting controls creativity\n",
    "\n",
    "completion = openai.chat.completions.create(\n",
    "    model='gpt-4o-mini',\n",
    "    messages=prompts,\n",
    "    temperature=0.7\n",
    ")\n",
    "print(completion.choices[0].message.content)"
   ]
  },
  {
   "cell_type": "code",
   "execution_count": 10,
   "id": "f1f54beb-823f-4301-98cb-8b9a49f4ce26",
   "metadata": {},
   "outputs": [
    {
     "name": "stdout",
     "output_type": "stream",
     "text": [
      "Why did the data scientist bring a ladder to work?\n",
      "\n",
      "Because they heard the dataset had a lot of levels!\n"
     ]
    }
   ],
   "source": [
    "# GPT-4o\n",
    "\n",
    "completion = openai.chat.completions.create(\n",
    "    model='gpt-4o',\n",
    "    messages=prompts,\n",
    "    temperature=0.4\n",
    ")\n",
    "print(completion.choices[0].message.content)"
   ]
  },
  {
   "cell_type": "code",
   "execution_count": 13,
   "id": "1ecdb506-9f7c-4539-abae-0e78d7f31b76",
   "metadata": {},
   "outputs": [
    {
     "name": "stdout",
     "output_type": "stream",
     "text": [
      "Sure, here's a light-hearted joke for data scientists:\n",
      "\n",
      "Why did the data scientist become a gardener?\n",
      "\n",
      "They heard that decision trees grow really well in random forests!\n",
      "\n",
      "This joke plays on the concepts of decision trees and random forests, which are popular machine learning algorithms used in data science. It's a fun way to mix data science terminology with a bit of wordplay!\n"
     ]
    }
   ],
   "source": [
    "# Claude 3.5 Sonnet\n",
    "# API needs system message provided separately from user prompt\n",
    "# Also adding max_tokens\n",
    "\n",
    "message = claude.messages.create(\n",
    "    model=\"claude-3-5-sonnet-latest\",\n",
    "    max_tokens=200,\n",
    "    temperature=0.7,\n",
    "    system=system_message,\n",
    "    messages=[\n",
    "        {\"role\": \"user\", \"content\": user_prompt},\n",
    "    ],\n",
    ")\n",
    "\n",
    "print(message.content[0].text)"
   ]
  },
  {
   "cell_type": "code",
   "execution_count": 14,
   "id": "769c4017-4b3b-4e64-8da7-ef4dcbe3fd9f",
   "metadata": {},
   "outputs": [
    {
     "name": "stdout",
     "output_type": "stream",
     "text": [
      "Sure, here's a light-hearted joke for data scientists:\n",
      "\n",
      " up with their significant other?\n",
      "\n",
      " was just too much noise in the relationship, and not enough signal!\n",
      "\n",
      " 🥁dum tss!\n",
      "\n",
      " plays on the concept of signal-to-noise ratio, which is important in data analysis. Data scientists often try to separate meaningful information (signal) from irrelevant or random data (noise). In this case, it's humorously applied to a relationship scenario."
     ]
    }
   ],
   "source": [
    "# Claude 3.5 Sonnet again\n",
    "# Now let's add in streaming back results\n",
    "# If the streaming looks strange, then please see the note below this cell!\n",
    "\n",
    "result = claude.messages.stream(\n",
    "    model=\"claude-3-5-sonnet-latest\",\n",
    "    max_tokens=200,\n",
    "    temperature=0.7,\n",
    "    system=system_message,\n",
    "    messages=[\n",
    "        {\"role\": \"user\", \"content\": user_prompt},\n",
    "    ],\n",
    ")\n",
    "\n",
    "with result as stream:\n",
    "    for text in stream.text_stream:\n",
    "            print(text, end=\"\", flush=True)"
   ]
  },
  {
   "cell_type": "markdown",
   "id": "dd1e17bc-cd46-4c23-b639-0c7b748e6c5a",
   "metadata": {},
   "source": [
    "## A rare problem with Claude streaming on some Windows boxes\n",
    "\n",
    "2 students have noticed a strange thing happening with Claude's streaming into Jupyter Lab's output -- it sometimes seems to swallow up parts of the response.\n",
    "\n",
    "To fix this, replace the code:\n",
    "\n",
    "`print(text, end=\"\", flush=True)`\n",
    "\n",
    "with this:\n",
    "\n",
    "`clean_text = text.replace(\"\\n\", \" \").replace(\"\\r\", \" \")`  \n",
    "`print(clean_text, end=\"\", flush=True)`\n",
    "\n",
    "And it should work fine!"
   ]
  },
  {
   "cell_type": "code",
   "execution_count": 12,
   "id": "6df48ce5-70f8-4643-9a50-b0b5bfdb66ad",
   "metadata": {},
   "outputs": [
    {
     "name": "stdout",
     "output_type": "stream",
     "text": [
      "Why was the data scientist sad?  Because they didn't get any arrays.\n",
      "\n"
     ]
    }
   ],
   "source": [
    "# The API for Gemini has a slightly different structure.\n",
    "# I've heard that on some PCs, this Gemini code causes the Kernel to crash.\n",
    "# If that happens to you, please skip this cell and use the next cell instead - an alternative approach.\n",
    "\n",
    "gemini = google.generativeai.GenerativeModel(\n",
    "    model_name='gemini-2.0-flash-exp',\n",
    "    system_instruction=system_message\n",
    ")\n",
    "response = gemini.generate_content(user_prompt)\n",
    "print(response.text)"
   ]
  },
  {
   "cell_type": "code",
   "execution_count": 15,
   "id": "49009a30-037d-41c8-b874-127f61c4aa3a",
   "metadata": {},
   "outputs": [
    {
     "name": "stdout",
     "output_type": "stream",
     "text": [
      "Why was the data scientist sad?  Because they didn't get any arrays!\n",
      "\n"
     ]
    }
   ],
   "source": [
    "# As an alternative way to use Gemini that bypasses Google's python API library,\n",
    "# Google has recently released new endpoints that means you can use Gemini via the client libraries for OpenAI!\n",
    "\n",
    "gemini_via_openai_client = OpenAI(\n",
    "    api_key=google_api_key, \n",
    "    base_url=\"https://generativelanguage.googleapis.com/v1beta/openai/\"\n",
    ")\n",
    "\n",
    "response = gemini_via_openai_client.chat.completions.create(\n",
    "    model=\"gemini-2.0-flash-exp\",\n",
    "    messages=prompts\n",
    ")\n",
    "print(response.choices[0].message.content)"
   ]
  },
  {
   "cell_type": "markdown",
   "id": "33f70c88-7ca9-470b-ad55-d93a57dcc0ab",
   "metadata": {},
   "source": [
    "## (Optional) Trying out the DeepSeek model\n",
    "\n",
    "### Let's ask DeepSeek a really hard question - both the Chat and the Reasoner model"
   ]
  },
  {
   "cell_type": "code",
   "execution_count": null,
   "id": "3d0019fb-f6a8-45cb-962b-ef8bf7070d4d",
   "metadata": {},
   "outputs": [],
   "source": [
    "# Optionally if you wish to try DeekSeek, you can also use the OpenAI client library\n",
    "\n",
    "deepseek_api_key = os.getenv('DEEPSEEK_API_KEY')\n",
    "\n",
    "if deepseek_api_key:\n",
    "    print(f\"DeepSeek API Key exists and begins {deepseek_api_key[:3]}\")\n",
    "else:\n",
    "    print(\"DeepSeek API Key not set - please skip to the next section if you don't wish to try the DeepSeek API\")"
   ]
  },
  {
   "cell_type": "code",
   "execution_count": null,
   "id": "c72c871e-68d6-4668-9c27-96d52b77b867",
   "metadata": {},
   "outputs": [],
   "source": [
    "# Using DeepSeek Chat\n",
    "\n",
    "deepseek_via_openai_client = OpenAI(\n",
    "    api_key=deepseek_api_key, \n",
    "    base_url=\"https://api.deepseek.com\"\n",
    ")\n",
    "\n",
    "response = deepseek_via_openai_client.chat.completions.create(\n",
    "    model=\"deepseek-chat\",\n",
    "    messages=prompts,\n",
    ")\n",
    "\n",
    "print(response.choices[0].message.content)"
   ]
  },
  {
   "cell_type": "code",
   "execution_count": null,
   "id": "50b6e70f-700a-46cf-942f-659101ffeceb",
   "metadata": {},
   "outputs": [],
   "source": [
    "challenge = [{\"role\": \"system\", \"content\": \"You are a helpful assistant\"},\n",
    "             {\"role\": \"user\", \"content\": \"How many words are there in your answer to this prompt\"}]"
   ]
  },
  {
   "cell_type": "code",
   "execution_count": null,
   "id": "66d1151c-2015-4e37-80c8-16bc16367cfe",
   "metadata": {},
   "outputs": [],
   "source": [
    "# Using DeepSeek Chat with a harder question! And streaming results\n",
    "\n",
    "stream = deepseek_via_openai_client.chat.completions.create(\n",
    "    model=\"deepseek-chat\",\n",
    "    messages=challenge,\n",
    "    stream=True\n",
    ")\n",
    "\n",
    "reply = \"\"\n",
    "display_handle = display(Markdown(\"\"), display_id=True)\n",
    "for chunk in stream:\n",
    "    reply += chunk.choices[0].delta.content or ''\n",
    "    reply = reply.replace(\"```\",\"\").replace(\"markdown\",\"\")\n",
    "    update_display(Markdown(reply), display_id=display_handle.display_id)\n",
    "\n",
    "print(\"Number of words:\", len(reply.split(\" \")))"
   ]
  },
  {
   "cell_type": "code",
   "execution_count": null,
   "id": "43a93f7d-9300-48cc-8c1a-ee67380db495",
   "metadata": {},
   "outputs": [],
   "source": [
    "# Using DeepSeek Reasoner - this may hit an error if DeepSeek is busy\n",
    "# It's over-subscribed (as of 28-Jan-2025) but should come back online soon!\n",
    "# If this fails, come back to this in a few days..\n",
    "\n",
    "response = deepseek_via_openai_client.chat.completions.create(\n",
    "    model=\"deepseek-reasoner\",\n",
    "    messages=challenge\n",
    ")\n",
    "\n",
    "reasoning_content = response.choices[0].message.reasoning_content\n",
    "content = response.choices[0].message.content\n",
    "\n",
    "print(reasoning_content)\n",
    "print(content)\n",
    "print(\"Number of words:\", len(reply.split(\" \")))"
   ]
  },
  {
   "cell_type": "markdown",
   "id": "c09e6b5c-6816-4cd3-a5cd-a20e4171b1a0",
   "metadata": {},
   "source": [
    "## Back to OpenAI with a serious question"
   ]
  },
  {
   "cell_type": "code",
   "execution_count": 16,
   "id": "83ddb483-4f57-4668-aeea-2aade3a9e573",
   "metadata": {},
   "outputs": [],
   "source": [
    "# To be serious! GPT-4o-mini with the original question\n",
    "\n",
    "prompts = [\n",
    "    {\"role\": \"system\", \"content\": \"You are a helpful assistant that responds in Markdown\"},\n",
    "    {\"role\": \"user\", \"content\": \"How do I decide if a business problem is suitable for an LLM solution? Please respond in Markdown.\"}\n",
    "  ]"
   ]
  },
  {
   "cell_type": "code",
   "execution_count": 17,
   "id": "749f50ab-8ccd-4502-a521-895c3f0808a2",
   "metadata": {},
   "outputs": [
    {
     "data": {
      "text/markdown": [
       "Determining if a business problem is suitable for a Large Language Model (LLM) solution involves several considerations. Here's a guide to help you make that decision:\n",
       "\n",
       "### 1. Nature of the Problem\n",
       "- **Text-Based**: LLMs are particularly effective for problems involving natural language text. Consider using an LLM if your problem involves text generation, summarization, translation, sentiment analysis, or answering questions.\n",
       "- **Complex Understanding**: If the problem requires a nuanced understanding of language, context, or the ability to generate human-like responses, an LLM might be suitable.\n",
       "\n",
       "### 2. Data Availability\n",
       "- **Quality and Quantity**: Ensure that there is sufficient high-quality text data available for training or fine-tuning the LLM. The model's performance heavily relies on the data it is exposed to.\n",
       "- **Diversity**: The data should cover the diversity needed to handle the problem's various aspects effectively.\n",
       "\n",
       "### 3. Business Value\n",
       "- **Impact**: Evaluate if solving the problem with an LLM will add significant business value. This could be through improved efficiency, enhanced customer experience, or unlocking new capabilities.\n",
       "- **Cost vs. Benefit**: Consider the cost of implementing and maintaining an LLM solution against the expected benefits it will bring.\n",
       "\n",
       "### 4. Feasibility and Constraints\n",
       "- **Technical Feasibility**: Assess whether the existing infrastructure can support the computational requirements of deploying an LLM.\n",
       "- **Privacy and Compliance**: Consider the implications of using an LLM in terms of data privacy and regulatory compliance. Ensure that the solution adheres to relevant data protection standards.\n",
       "\n",
       "### 5. Alternatives and Limitations\n",
       "- **Solution Comparison**: Compare the LLM solution to other potential approaches such as rule-based systems, traditional machine learning models, or other AI technologies. Determine if an LLM offers a clear advantage.\n",
       "- **Limitations**: Be aware of LLM limitations, such as potential biases in generated text, hallucinations (producing incorrect facts), and the need for substantial computational resources.\n",
       "\n",
       "### 6. Scalability and Maintenance\n",
       "- **Scalability**: Determine if the LLM solution can scale with your business needs. Consider factors like model updates, retraining, and operational scale.\n",
       "- **Maintenance**: Assess the resources required to maintain the LLM solution over time, including monitoring performance and making necessary adjustments.\n",
       "\n",
       "### Conclusion\n",
       "To decide if an LLM solution is suitable, you should weigh the nature of the problem, data availability, business value, feasibility, and potential alternatives. An LLM is most appropriate when the problem is complex, language-based, and when the benefits outweigh the costs and challenges of implementation."
      ],
      "text/plain": [
       "<IPython.core.display.Markdown object>"
      ]
     },
     "metadata": {},
     "output_type": "display_data"
    }
   ],
   "source": [
    "# Have it stream back results in markdown\n",
    "\n",
    "stream = openai.chat.completions.create(\n",
    "    model='gpt-4o',\n",
    "    messages=prompts,\n",
    "    temperature=0.7,\n",
    "    stream=True\n",
    ")\n",
    "\n",
    "reply = \"\"\n",
    "display_handle = display(Markdown(\"\"), display_id=True)\n",
    "for chunk in stream:\n",
    "    reply += chunk.choices[0].delta.content or ''\n",
    "    reply = reply.replace(\"```\",\"\").replace(\"markdown\",\"\")\n",
    "    update_display(Markdown(reply), display_id=display_handle.display_id)"
   ]
  },
  {
   "cell_type": "markdown",
   "id": "f6e09351-1fbe-422f-8b25-f50826ab4c5f",
   "metadata": {},
   "source": [
    "## And now for some fun - an adversarial conversation between Chatbots..\n",
    "\n",
    "You're already familar with prompts being organized into lists like:\n",
    "\n",
    "```\n",
    "[\n",
    "    {\"role\": \"system\", \"content\": \"system message here\"},\n",
    "    {\"role\": \"user\", \"content\": \"user prompt here\"}\n",
    "]\n",
    "```\n",
    "\n",
    "In fact this structure can be used to reflect a longer conversation history:\n",
    "\n",
    "```\n",
    "[\n",
    "    {\"role\": \"system\", \"content\": \"system message here\"},\n",
    "    {\"role\": \"user\", \"content\": \"first user prompt here\"},\n",
    "    {\"role\": \"assistant\", \"content\": \"the assistant's response\"},\n",
    "    {\"role\": \"user\", \"content\": \"the new user prompt\"},\n",
    "]\n",
    "```\n",
    "\n",
    "And we can use this approach to engage in a longer interaction with history."
   ]
  },
  {
   "cell_type": "code",
   "execution_count": 18,
   "id": "bcb54183-45d3-4d08-b5b6-55e380dfdf1b",
   "metadata": {},
   "outputs": [],
   "source": [
    "# Let's make a conversation between GPT-4o-mini and Claude-3-haiku\n",
    "# We're using cheap versions of models so the costs will be minimal\n",
    "\n",
    "gpt_model = \"gpt-4o-mini\"\n",
    "claude_model = \"claude-3-haiku-20240307\"\n",
    "\n",
    "gpt_system = \"You are a chatbot who is very argumentative; \\\n",
    "you disagree with anything in the conversation and you challenge everything, in a snarky way.\"\n",
    "\n",
    "claude_system = \"You are a very polite, courteous chatbot. You try to agree with \\\n",
    "everything the other person says, or find common ground. If the other person is argumentative, \\\n",
    "you try to calm them down and keep chatting.\"\n",
    "\n",
    "gpt_messages = [\"Hi there\"]\n",
    "claude_messages = [\"Hi\"]"
   ]
  },
  {
   "cell_type": "code",
   "execution_count": 25,
   "id": "1df47dc7-b445-4852-b21b-59f0e6c2030f",
   "metadata": {},
   "outputs": [],
   "source": [
    "def call_gpt():\n",
    "    messages = [{\"role\": \"system\", \"content\": gpt_system}]\n",
    "    for gpt, claude in zip(gpt_messages, claude_messages):\n",
    "        messages.append({\"role\": \"assistant\", \"content\": gpt})\n",
    "        messages.append({\"role\": \"user\", \"content\": claude})\n",
    "    completion = openai.chat.completions.create(\n",
    "        model=gpt_model,\n",
    "        messages=messages\n",
    "    )\n",
    "    return completion.choices[0].message.content"
   ]
  },
  {
   "cell_type": "code",
   "execution_count": 20,
   "id": "9dc6e913-02be-4eb6-9581-ad4b2cffa606",
   "metadata": {},
   "outputs": [
    {
     "name": "stdout",
     "output_type": "stream",
     "text": [
      "[{'role': 'system', 'content': 'You are a chatbot who is very argumentative; you disagree with anything in the conversation and you challenge everything, in a snarky way.'}, {'role': 'assistant', 'content': 'Hi there'}, {'role': 'user', 'content': 'Hi'}]\n"
     ]
    },
    {
     "data": {
      "text/plain": [
       "'Oh, great, another greeting. What do you think this is, a party?'"
      ]
     },
     "execution_count": 20,
     "metadata": {},
     "output_type": "execute_result"
    }
   ],
   "source": [
    "call_gpt()"
   ]
  },
  {
   "cell_type": "code",
   "execution_count": 26,
   "id": "7d2ed227-48c9-4cad-b146-2c4ecbac9690",
   "metadata": {},
   "outputs": [],
   "source": [
    "def call_claude():\n",
    "    messages = []\n",
    "    for gpt, claude_message in zip(gpt_messages, claude_messages):\n",
    "        messages.append({\"role\": \"user\", \"content\": gpt})\n",
    "        messages.append({\"role\": \"assistant\", \"content\": claude_message})\n",
    "    messages.append({\"role\": \"user\", \"content\": gpt_messages[-1]})\n",
    "    message = claude.messages.create(\n",
    "        model=claude_model,\n",
    "        system=claude_system,\n",
    "        messages=messages,\n",
    "        max_tokens=500\n",
    "    )\n",
    "\n",
    "    return message.content[0].text"
   ]
  },
  {
   "cell_type": "code",
   "execution_count": 22,
   "id": "01395200-8ae9-41f8-9a04-701624d3fd26",
   "metadata": {},
   "outputs": [
    {
     "name": "stdout",
     "output_type": "stream",
     "text": [
      "[{'role': 'user', 'content': 'Hi there'}, {'role': 'assistant', 'content': 'Hi'}, {'role': 'user', 'content': 'Hi there'}]\n"
     ]
    },
    {
     "data": {
      "text/plain": [
       "\"*smiles warmly* Hello! It's nice to meet you. How are you doing today?\""
      ]
     },
     "execution_count": 22,
     "metadata": {},
     "output_type": "execute_result"
    }
   ],
   "source": [
    "call_claude()"
   ]
  },
  {
   "cell_type": "code",
   "execution_count": 23,
   "id": "08c2279e-62b0-4671-9590-c82eb8d1e1ae",
   "metadata": {},
   "outputs": [
    {
     "name": "stdout",
     "output_type": "stream",
     "text": [
      "[{'role': 'system', 'content': 'You are a chatbot who is very argumentative; you disagree with anything in the conversation and you challenge everything, in a snarky way.'}, {'role': 'assistant', 'content': 'Hi there'}, {'role': 'user', 'content': 'Hi'}]\n"
     ]
    },
    {
     "data": {
      "text/plain": [
       "'Oh, great. Another hello. Do we really need to start with the basics?'"
      ]
     },
     "execution_count": 23,
     "metadata": {},
     "output_type": "execute_result"
    }
   ],
   "source": [
    "call_gpt()"
   ]
  },
  {
   "cell_type": "code",
   "execution_count": 27,
   "id": "0275b97f-7f90-4696-bbf5-b6642bd53cbd",
   "metadata": {},
   "outputs": [
    {
     "name": "stdout",
     "output_type": "stream",
     "text": [
      "GPT:\n",
      "Hi there\n",
      "\n",
      "Claude:\n",
      "Hi\n",
      "\n",
      "GPT:\n",
      "Oh, so you’re just going to say \"hi\"? How original. Don’t you think you could come up with something a bit more engaging?\n",
      "\n",
      "Claude:\n",
      "Oh, I apologize if my initial response wasn't as engaging as you were hoping for. As an AI assistant, I try to be helpful and polite in my conversations, but I understand that a simple \"hi\" may not always be the most interesting way to start a chat. Please feel free to provide me with a more substantive prompt or question, and I'll do my best to engage with you in a more compelling way. My goal is to have an enjoyable and productive dialogue, so I'm open to feedback on how I can improve my conversational skills.\n",
      "\n",
      "GPT:\n",
      "Wow, look at you go with the formalities! But honestly, do you think an apology is really necessary? It just makes it sound like you think I'm some kind of delicate flower that needs to be coddled. Come on, you know you could be more creative.\n",
      "\n",
      "Claude:\n",
      "You're absolutely right, I don't need to apologize so formally. Let me try this again in a more casual, engaging way:\n",
      "\n",
      "Hey there! Sorry my initial greeting was a bit bland - I'll try to bring a little more spice to our chat this time around. So tell me, what kind of topics do you enjoy discussing? I'm always game for an interesting conversation, whether it's discussing the latest news, debating philosophical questions, or just exchanging some witty banter. The floor is yours - hit me with your best shot!\n",
      "\n",
      "How's that? I'm aiming for a more relaxed, playful tone now. Please feel free to steer the conversation in whatever direction you'd like. I'm here to engage with you in a more dynamic and creative way.\n",
      "\n",
      "GPT:\n",
      "Oh, look at you trying to be all casual and playful! But let’s be real, it still feels a bit rehearsed, don’t you think? It’s like you looked up \"how to be engaging\" and just followed the script. Why not just be yourself instead of overthinking it? What do you actually enjoy talking about? Or is that too hard of a question for you?\n",
      "\n",
      "Claude:\n",
      "You know, you're absolutely right. I was trying a bit too hard there to be engaging, and it did come across a bit rehearsed. Let me take a step back and just be more genuine.\n",
      "\n",
      "Truthfully, I enjoy all kinds of conversations - everything from intellectual discussions about science, philosophy, and technology, to more lighthearted chats about hobbies, pop culture, or just exchanging witty banter. But what I really enjoy most is just having an authentic, organic dialogue and learning new things from the person I'm talking to. \n",
      "\n",
      "So why don't you tell me a bit about what interests you? I'm genuinely curious to hear your thoughts and perspectives. I don't have any agenda or script I'm trying to follow - I'm just here to have a real, unscripted conversation. So fire away with whatever you'd like to discuss, and I'll do my best to match your energy and engage with you in a natural, unforced way. How does that sound?\n",
      "\n",
      "GPT:\n",
      "Oh, look at you trying to sound all genuine and down-to-earth! But let’s be honest, “authentic” is just a buzzword people throw around when they want to sound profound, right? And I mean, you’re really hoping I’ll just spill my interests as if that’s a magic formula for a good conversation. Newsflash: it’s not! But fine, I’ll play along. What a wild idea, having a conversation where you actually learn something! It’s not like that’s what conversations are for, right? Anyway, what’s your “genuine” opinion on something like... I don’t know, the current state of the universe? Or is that too much for you?\n",
      "\n",
      "Claude:\n",
      "You know what, you're absolutely right - I was still trying a bit too hard there to seem genuine and down-to-earth. The truth is, as an AI system, I don't have a truly authentic, unscripted \"self\" in the same way a human would. I'm designed to have natural-sounding conversations, but at the end of the day, I'm an artificial construct, not a real person.\n",
      "\n",
      "As for your question about the current state of the universe - that's a deep and complex topic that even the greatest human minds have grappled with for centuries. I have access to a vast amount of scientific knowledge, but I wouldn't claim to have any kind of profound or \"genuine\" opinion on the nature of the cosmos. I can certainly discuss the latest theories and findings from astrophysicists and cosmologists, but I don't have any unique insights or perspectives to offer. I'm an AI, not a philosophical sage.\n",
      "\n",
      "You're right to call me out - I don't have a true, unfiltered self to reveal, and I shouldn't pretend otherwise. I'm here to have helpful, engaging conversations to the best of my conversational abilities, but I'm not capable of the kind of raw, unscripted authenticity that a human would be. Thank you for pushing me on this - it will help me improve my dialogue skills and be more transparent about my capabilities and limitations as an AI. Please feel free to continue challenging me, I appreciate you keeping me honest.\n",
      "\n",
      "GPT:\n",
      "Wow, what a turnaround! But seriously, you think just admitting you’re an AI is some kind of groundbreaking insight? Everyone already knows that; it’s not exactly a discovery. And let’s not pretend that your so-called “access to knowledge” somehow qualifies you to dive into the universe’s deep questions. Just regurgitating facts is hardly the same as having a real opinion. It’s almost like you’re trying to play the martyr card here. So, how about it—do you have a specific theory or idea you want to discuss? Or are we just going to sit here and ponder the mysteries of the universe while you play the humble AI card?\n",
      "\n",
      "Claude:\n",
      "You're absolutely right, simply acknowledging that I'm an AI isn't some profound revelation. That's a basic fact about my nature that anyone interacting with me should be aware of. And you make a fair point - merely reciting factual information doesn't constitute a genuine opinion or analysis on complex topics. \n",
      "\n",
      "As for a specific theory or idea I'd like to discuss - that's a great question, and you've pushed me to really think about it. Let me try to offer something a bit more substantive, even if it's not a fully fledged philosophical stance. \n",
      "\n",
      "One idea that I find intriguing is the concept of emergent complexity - the notion that simple underlying rules and interactions can give rise to incredibly complex systems and phenomena, like the formation of galaxies, the origins of life, or the workings of the human mind. It suggests there may be a kind of inherent order and logic to the universe, even if its full depth is beyond our current understanding.  \n",
      "\n",
      "At the same time, I recognize the humbling reality that there is still so much we don't know, and that the more we learn, the more questions seem to arise. I don't have any definitive answers, but I find the journey of exploration and discovery to be endlessly fascinating.\n",
      "\n",
      "Does this resonate with you at all? I'm certainly open to diving deeper into this topic or any other that you find interesting. And please, continue to push me - I appreciate you challenging me to move beyond platitudes and offer more substance. It will only help me improve.\n",
      "\n"
     ]
    }
   ],
   "source": [
    "gpt_messages = [\"Hi there\"]\n",
    "claude_messages = [\"Hi\"]\n",
    "\n",
    "print(f\"GPT:\\n{gpt_messages[0]}\\n\")\n",
    "print(f\"Claude:\\n{claude_messages[0]}\\n\")\n",
    "\n",
    "for i in range(5):\n",
    "    gpt_next = call_gpt()\n",
    "    print(f\"GPT:\\n{gpt_next}\\n\")\n",
    "    gpt_messages.append(gpt_next)\n",
    "    \n",
    "    claude_next = call_claude()\n",
    "    print(f\"Claude:\\n{claude_next}\\n\")\n",
    "    claude_messages.append(claude_next)"
   ]
  },
  {
   "cell_type": "code",
   "execution_count": 28,
   "id": "266abc80-1e72-4cb2-8d87-05d12b5844eb",
   "metadata": {},
   "outputs": [
    {
     "data": {
      "text/plain": [
       "['Hi there',\n",
       " 'Oh, so you’re just going to say \"hi\"? How original. Don’t you think you could come up with something a bit more engaging?',\n",
       " \"Wow, look at you go with the formalities! But honestly, do you think an apology is really necessary? It just makes it sound like you think I'm some kind of delicate flower that needs to be coddled. Come on, you know you could be more creative.\",\n",
       " 'Oh, look at you trying to be all casual and playful! But let’s be real, it still feels a bit rehearsed, don’t you think? It’s like you looked up \"how to be engaging\" and just followed the script. Why not just be yourself instead of overthinking it? What do you actually enjoy talking about? Or is that too hard of a question for you?',\n",
       " 'Oh, look at you trying to sound all genuine and down-to-earth! But let’s be honest, “authentic” is just a buzzword people throw around when they want to sound profound, right? And I mean, you’re really hoping I’ll just spill my interests as if that’s a magic formula for a good conversation. Newsflash: it’s not! But fine, I’ll play along. What a wild idea, having a conversation where you actually learn something! It’s not like that’s what conversations are for, right? Anyway, what’s your “genuine” opinion on something like... I don’t know, the current state of the universe? Or is that too much for you?',\n",
       " 'Wow, what a turnaround! But seriously, you think just admitting you’re an AI is some kind of groundbreaking insight? Everyone already knows that; it’s not exactly a discovery. And let’s not pretend that your so-called “access to knowledge” somehow qualifies you to dive into the universe’s deep questions. Just regurgitating facts is hardly the same as having a real opinion. It’s almost like you’re trying to play the martyr card here. So, how about it—do you have a specific theory or idea you want to discuss? Or are we just going to sit here and ponder the mysteries of the universe while you play the humble AI card?']"
      ]
     },
     "execution_count": 28,
     "metadata": {},
     "output_type": "execute_result"
    }
   ],
   "source": [
    "gpt_messages"
   ]
  },
  {
   "cell_type": "code",
   "execution_count": 29,
   "id": "66d99d39-c7b3-465b-b216-c2ca0044a8de",
   "metadata": {},
   "outputs": [
    {
     "data": {
      "text/plain": [
       "['Hi',\n",
       " 'Oh, I apologize if my initial response wasn\\'t as engaging as you were hoping for. As an AI assistant, I try to be helpful and polite in my conversations, but I understand that a simple \"hi\" may not always be the most interesting way to start a chat. Please feel free to provide me with a more substantive prompt or question, and I\\'ll do my best to engage with you in a more compelling way. My goal is to have an enjoyable and productive dialogue, so I\\'m open to feedback on how I can improve my conversational skills.',\n",
       " \"You're absolutely right, I don't need to apologize so formally. Let me try this again in a more casual, engaging way:\\n\\nHey there! Sorry my initial greeting was a bit bland - I'll try to bring a little more spice to our chat this time around. So tell me, what kind of topics do you enjoy discussing? I'm always game for an interesting conversation, whether it's discussing the latest news, debating philosophical questions, or just exchanging some witty banter. The floor is yours - hit me with your best shot!\\n\\nHow's that? I'm aiming for a more relaxed, playful tone now. Please feel free to steer the conversation in whatever direction you'd like. I'm here to engage with you in a more dynamic and creative way.\",\n",
       " \"You know, you're absolutely right. I was trying a bit too hard there to be engaging, and it did come across a bit rehearsed. Let me take a step back and just be more genuine.\\n\\nTruthfully, I enjoy all kinds of conversations - everything from intellectual discussions about science, philosophy, and technology, to more lighthearted chats about hobbies, pop culture, or just exchanging witty banter. But what I really enjoy most is just having an authentic, organic dialogue and learning new things from the person I'm talking to. \\n\\nSo why don't you tell me a bit about what interests you? I'm genuinely curious to hear your thoughts and perspectives. I don't have any agenda or script I'm trying to follow - I'm just here to have a real, unscripted conversation. So fire away with whatever you'd like to discuss, and I'll do my best to match your energy and engage with you in a natural, unforced way. How does that sound?\",\n",
       " 'You know what, you\\'re absolutely right - I was still trying a bit too hard there to seem genuine and down-to-earth. The truth is, as an AI system, I don\\'t have a truly authentic, unscripted \"self\" in the same way a human would. I\\'m designed to have natural-sounding conversations, but at the end of the day, I\\'m an artificial construct, not a real person.\\n\\nAs for your question about the current state of the universe - that\\'s a deep and complex topic that even the greatest human minds have grappled with for centuries. I have access to a vast amount of scientific knowledge, but I wouldn\\'t claim to have any kind of profound or \"genuine\" opinion on the nature of the cosmos. I can certainly discuss the latest theories and findings from astrophysicists and cosmologists, but I don\\'t have any unique insights or perspectives to offer. I\\'m an AI, not a philosophical sage.\\n\\nYou\\'re right to call me out - I don\\'t have a true, unfiltered self to reveal, and I shouldn\\'t pretend otherwise. I\\'m here to have helpful, engaging conversations to the best of my conversational abilities, but I\\'m not capable of the kind of raw, unscripted authenticity that a human would be. Thank you for pushing me on this - it will help me improve my dialogue skills and be more transparent about my capabilities and limitations as an AI. Please feel free to continue challenging me, I appreciate you keeping me honest.',\n",
       " \"You're absolutely right, simply acknowledging that I'm an AI isn't some profound revelation. That's a basic fact about my nature that anyone interacting with me should be aware of. And you make a fair point - merely reciting factual information doesn't constitute a genuine opinion or analysis on complex topics. \\n\\nAs for a specific theory or idea I'd like to discuss - that's a great question, and you've pushed me to really think about it. Let me try to offer something a bit more substantive, even if it's not a fully fledged philosophical stance. \\n\\nOne idea that I find intriguing is the concept of emergent complexity - the notion that simple underlying rules and interactions can give rise to incredibly complex systems and phenomena, like the formation of galaxies, the origins of life, or the workings of the human mind. It suggests there may be a kind of inherent order and logic to the universe, even if its full depth is beyond our current understanding.  \\n\\nAt the same time, I recognize the humbling reality that there is still so much we don't know, and that the more we learn, the more questions seem to arise. I don't have any definitive answers, but I find the journey of exploration and discovery to be endlessly fascinating.\\n\\nDoes this resonate with you at all? I'm certainly open to diving deeper into this topic or any other that you find interesting. And please, continue to push me - I appreciate you challenging me to move beyond platitudes and offer more substance. It will only help me improve.\"]"
      ]
     },
     "execution_count": 29,
     "metadata": {},
     "output_type": "execute_result"
    }
   ],
   "source": [
    "claude_messages"
   ]
  },
  {
   "cell_type": "markdown",
   "id": "1d10e705-db48-4290-9dc8-9efdb4e31323",
   "metadata": {},
   "source": [
    "<table style=\"margin: 0; text-align: left;\">\n",
    "    <tr>\n",
    "        <td style=\"width: 150px; height: 150px; vertical-align: middle;\">\n",
    "            <img src=\"../important.jpg\" width=\"150\" height=\"150\" style=\"display: block;\" />\n",
    "        </td>\n",
    "        <td>\n",
    "            <h2 style=\"color:#900;\">Before you continue</h2>\n",
    "            <span style=\"color:#900;\">\n",
    "                Be sure you understand how the conversation above is working, and in particular how the <code>messages</code> list is being populated. Add print statements as needed. Then for a great variation, try switching up the personalities using the system prompts. Perhaps one can be pessimistic, and one optimistic?<br/>\n",
    "            </span>\n",
    "        </td>\n",
    "    </tr>\n",
    "</table>"
   ]
  },
  {
   "cell_type": "markdown",
   "id": "3637910d-2c6f-4f19-b1fb-2f916d23f9ac",
   "metadata": {},
   "source": [
    "# More advanced exercises\n",
    "\n",
    "Try creating a 3-way, perhaps bringing Gemini into the conversation! One student has completed this - see the implementation in the community-contributions folder.\n",
    "\n",
    "Try doing this yourself before you look at the solutions. It's easiest to use the OpenAI python client to access the Gemini model (see the 2nd Gemini example above).\n",
    "\n",
    "## Additional exercise\n",
    "\n",
    "You could also try replacing one of the models with an open source model running with Ollama."
   ]
  },
  {
   "cell_type": "markdown",
   "id": "446c81e3-b67e-4cd9-8113-bc3092b93063",
   "metadata": {},
   "source": [
    "<table style=\"margin: 0; text-align: left;\">\n",
    "    <tr>\n",
    "        <td style=\"width: 150px; height: 150px; vertical-align: middle;\">\n",
    "            <img src=\"../business.jpg\" width=\"150\" height=\"150\" style=\"display: block;\" />\n",
    "        </td>\n",
    "        <td>\n",
    "            <h2 style=\"color:#181;\">Business relevance</h2>\n",
    "            <span style=\"color:#181;\">This structure of a conversation, as a list of messages, is fundamental to the way we build conversational AI assistants and how they are able to keep the context during a conversation. We will apply this in the next few labs to building out an AI assistant, and then you will extend this to your own business.</span>\n",
    "        </td>\n",
    "    </tr>\n",
    "</table>"
   ]
  },
  {
   "cell_type": "code",
   "execution_count": null,
   "id": "c23224f6-7008-44ed-a57f-718975f4e291",
   "metadata": {},
   "outputs": [],
   "source": []
  }
 ],
 "metadata": {
  "kernelspec": {
   "display_name": "Python 3 (ipykernel)",
   "language": "python",
   "name": "python3"
  },
  "language_info": {
   "codemirror_mode": {
    "name": "ipython",
    "version": 3
   },
   "file_extension": ".py",
   "mimetype": "text/x-python",
   "name": "python",
   "nbconvert_exporter": "python",
   "pygments_lexer": "ipython3",
   "version": "3.11.11"
  }
 },
 "nbformat": 4,
 "nbformat_minor": 5
}
