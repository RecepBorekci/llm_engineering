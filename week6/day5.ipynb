{
 "cells": [
  {
   "cell_type": "markdown",
   "id": "db8736a7-ed94-441c-9556-831fa57b5a10",
   "metadata": {},
   "source": [
    "# The Product Pricer Continued\n",
    "\n",
    "A model that can estimate how much something costs, from its description.\n",
    "\n",
    "## AT LAST - it's time for Fine Tuning!\n",
    "\n",
    "After all this data preparation, and old school machine learning, we've finally arrived at the moment you've been waiting for. Fine-tuning a model."
   ]
  },
  {
   "cell_type": "code",
   "execution_count": 1,
   "id": "681c717b-4c24-4ac3-a5f3-3c5881d6e70a",
   "metadata": {},
   "outputs": [],
   "source": [
    "# imports\n",
    "\n",
    "import os\n",
    "import re\n",
    "import math\n",
    "import json\n",
    "import random\n",
    "from dotenv import load_dotenv\n",
    "from huggingface_hub import login\n",
    "from items import Item\n",
    "import matplotlib.pyplot as plt\n",
    "import numpy as np\n",
    "import pickle\n",
    "from collections import Counter\n",
    "from openai import OpenAI\n",
    "from anthropic import Anthropic"
   ]
  },
  {
   "cell_type": "code",
   "execution_count": 2,
   "id": "21a3833e-4093-43b0-8f7b-839c50b911ea",
   "metadata": {},
   "outputs": [],
   "source": [
    "# moved our Tester into a separate package\n",
    "# call it with Tester.test(function_name, test_dataset)\n",
    "\n",
    "from testing import Tester"
   ]
  },
  {
   "cell_type": "code",
   "execution_count": 3,
   "id": "36d05bdc-0155-4c72-a7ee-aa4e614ffd3c",
   "metadata": {},
   "outputs": [],
   "source": [
    "# environment\n",
    "\n",
    "load_dotenv()\n",
    "os.environ['OPENAI_API_KEY'] = os.getenv('OPENAI_API_KEY', 'your-key-if-not-using-env')\n",
    "os.environ['ANTHROPIC_API_KEY'] = os.getenv('ANTHROPIC_API_KEY', 'your-key-if-not-using-env')\n",
    "os.environ['HF_TOKEN'] = os.getenv('HF_TOKEN', 'your-key-if-not-using-env')"
   ]
  },
  {
   "cell_type": "code",
   "execution_count": 4,
   "id": "4dd3aad2-6f99-433c-8792-e461d2f06622",
   "metadata": {},
   "outputs": [
    {
     "name": "stderr",
     "output_type": "stream",
     "text": [
      "Note: Environment variable`HF_TOKEN` is set and is the current active token independently from the token you've just configured.\n"
     ]
    }
   ],
   "source": [
    "# Log in to HuggingFace\n",
    "\n",
    "hf_token = os.environ['HF_TOKEN']\n",
    "login(hf_token, add_to_git_credential=True)"
   ]
  },
  {
   "cell_type": "code",
   "execution_count": 5,
   "id": "b0a6fb86-74a4-403c-ab25-6db2d74e9d2b",
   "metadata": {},
   "outputs": [],
   "source": [
    "openai = OpenAI()"
   ]
  },
  {
   "cell_type": "code",
   "execution_count": 6,
   "id": "c830ed3e-24ee-4af6-a07b-a1bfdcd39278",
   "metadata": {},
   "outputs": [],
   "source": [
    "%matplotlib inline"
   ]
  },
  {
   "cell_type": "code",
   "execution_count": 7,
   "id": "5c9b05f4-c9eb-462c-8d86-de9140a2d985",
   "metadata": {},
   "outputs": [],
   "source": [
    "# Let's avoid curating all our data again! Load in the pickle files:\n",
    "\n",
    "with open('train.pkl', 'rb') as file:\n",
    "    train = pickle.load(file)\n",
    "\n",
    "with open('test.pkl', 'rb') as file:\n",
    "    test = pickle.load(file)"
   ]
  },
  {
   "cell_type": "code",
   "execution_count": 8,
   "id": "e8367135-f40e-43e1-8f3c-09e990ab1194",
   "metadata": {},
   "outputs": [],
   "source": [
    "# OpenAI recommends fine-tuning with populations of 50-100 examples\n",
    "# But as our examples are very small, I'm suggesting we go with 200 examples (and 1 epoch)\n",
    "\n",
    "fine_tune_train = train[:200]\n",
    "fine_tune_validation = train[200:250]"
   ]
  },
  {
   "cell_type": "markdown",
   "id": "8be4a889-81c3-42b1-a2fc-034cdc7321a6",
   "metadata": {},
   "source": [
    "# Step 1\n",
    "\n",
    "Prepare our data for fine-tuning in JSONL (JSON Lines) format and upload to OpenAI"
   ]
  },
  {
   "cell_type": "code",
   "execution_count": 9,
   "id": "8ae2fb3c-1cff-4ce3-911e-627c970edd7b",
   "metadata": {},
   "outputs": [],
   "source": [
    "# First let's work on a good prompt for a Frontier model\n",
    "# Notice that I'm removing the \" to the nearest dollar\"\n",
    "# When we train our own models, we'll need to make the problem as easy as possible, \n",
    "# but a Frontier model needs no such simplification.\n",
    "\n",
    "def messages_for(item):\n",
    "    system_message = \"You estimate prices of items. Reply only with the price, no explanation\"\n",
    "    user_prompt = item.test_prompt().replace(\" to the nearest dollar\",\"\").replace(\"\\n\\nPrice is $\",\"\")\n",
    "    return [\n",
    "        {\"role\": \"system\", \"content\": system_message},\n",
    "        {\"role\": \"user\", \"content\": user_prompt},\n",
    "        {\"role\": \"assistant\", \"content\": f\"Price is ${item.price:.2f}\"}\n",
    "    ]"
   ]
  },
  {
   "cell_type": "code",
   "execution_count": 10,
   "id": "1aa280f6-1227-426a-a2e2-1ce985feba1e",
   "metadata": {},
   "outputs": [
    {
     "data": {
      "text/plain": [
       "[{'role': 'system',\n",
       "  'content': 'You estimate prices of items. Reply only with the price, no explanation'},\n",
       " {'role': 'user',\n",
       "  'content': \"How much does this cost?\\n\\n1970's Captain's Lamp With Tripod Stand in Brass Finish Floor Lamp Marine Collection\\nA magnificent new large designer Hand Made nautical signal light with timber tripod. Direct to you from the importer at a fraction of the retail price. A beautiful Designer piece for the home or office. Much larger than the other models I sell, sure to make a bold statement in any room. The lamp head is adjustable and easily pops open to change the globe. It takes regular household screw in light globes. The legs adjust to the desired height so that it can be used as both a floor lamp or table lamp. Dimensions 98cm min Height, 190cm max Height. Lamp head is 36cm diameter, x 31cm deep. Takes regular E27 screw in light globes. Vintage\"},\n",
       " {'role': 'assistant', 'content': 'Price is $152.00'}]"
      ]
     },
     "execution_count": 10,
     "metadata": {},
     "output_type": "execute_result"
    }
   ],
   "source": [
    "messages_for(train[0])"
   ]
  },
  {
   "cell_type": "code",
   "execution_count": 11,
   "id": "c0e5b56c-8a0b-4d8e-a112-ce87efb4e152",
   "metadata": {},
   "outputs": [],
   "source": [
    "# Convert the items into a list of json objects - a \"jsonl\" string\n",
    "# Each row represents a message in the form:\n",
    "# {\"messages\" : [{\"role\": \"system\", \"content\": \"You estimate prices...\n",
    "\n",
    "\n",
    "def make_jsonl(items):\n",
    "    result = \"\"\n",
    "    for item in items:\n",
    "        messages = messages_for(item)\n",
    "        messages_str = json.dumps(messages)\n",
    "        result += '{\"messages\": ' + messages_str +'}\\n'\n",
    "    return result.strip()"
   ]
  },
  {
   "cell_type": "code",
   "execution_count": 12,
   "id": "5e72de93-a6a6-4b35-855e-15786b97bf5f",
   "metadata": {},
   "outputs": [
    {
     "name": "stdout",
     "output_type": "stream",
     "text": [
      "{\"messages\": [{\"role\": \"system\", \"content\": \"You estimate prices of items. Reply only with the price, no explanation\"}, {\"role\": \"user\", \"content\": \"How much does this cost?\\n\\n1970's Captain's Lamp With Tripod Stand in Brass Finish Floor Lamp Marine Collection\\nA magnificent new large designer Hand Made nautical signal light with timber tripod. Direct to you from the importer at a fraction of the retail price. A beautiful Designer piece for the home or office. Much larger than the other models I sell, sure to make a bold statement in any room. The lamp head is adjustable and easily pops open to change the globe. It takes regular household screw in light globes. The legs adjust to the desired height so that it can be used as both a floor lamp or table lamp. Dimensions 98cm min Height, 190cm max Height. Lamp head is 36cm diameter, x 31cm deep. Takes regular E27 screw in light globes. Vintage\"}, {\"role\": \"assistant\", \"content\": \"Price is $152.00\"}]}\n",
      "{\"messages\": [{\"role\": \"system\", \"content\": \"You estimate prices of items. Reply only with the price, no explanation\"}, {\"role\": \"user\", \"content\": \"How much does this cost?\\n\\nLovedima Freestanding Bathtub Faucet Antique Brass Waterfall Tub Filler Floor Mount Single Handle Bathroom Faucet with Hand Shower\\nDimensions overall height spout height 38.58 ; spout reach 7.40 ; connection size 0.5; hose length 60''. All mounting hardware and hot/cold waterlines included, ready for installation right out of the box. Premium Quality Solid brass body, lead-free brass construction with high quality, corrosion resistant antique brass finish. Ceramic disc valves exceed industry longevity standards, ensuring durable performance for life. High-Arc Spout High-arc spout ensures ample room underneath and fills the tub rapidly. Come with the aerator to provide water with no splash. Easy Operation Single lever handle offers effortless temperature and flow control, diverter knob\"}, {\"role\": \"assistant\", \"content\": \"Price is $230.99\"}]}\n",
      "{\"messages\": [{\"role\": \"system\", \"content\": \"You estimate prices of items. Reply only with the price, no explanation\"}, {\"role\": \"user\", \"content\": \"How much does this cost?\\n\\nLEGO Movie MetalBeard's Duel 70807 (Discontinued by Manufacturer)\\nFrom the Manufacturer Arrr, me hearties! MetalBeard lost his body parts in a previous battle with Lord Business, but has rebuilt himself from old ship scraps to become more powerful than ever. Now, the giant Micro Manager is challenging him. Grab the pirate sword from the holster on his back and fire the cannons on his left arm. Protect his prized parrot and the treasure chest containing his body parts and act fast before the Micro Manager fires missiles and grabs the construction foreman with its claws. Includes 3 minifigures Skeletron, Robo SWAT and Frank the Foreman. Includes 3 minifigures Skeletron, Robo SWAT and Frank the Foreman; Features the\"}, {\"role\": \"assistant\", \"content\": \"Price is $265.99\"}]}\n"
     ]
    }
   ],
   "source": [
    "print(make_jsonl(train[:3]))"
   ]
  },
  {
   "cell_type": "code",
   "execution_count": 13,
   "id": "7734bff0-95c4-4e67-a87e-7e2254e2c67d",
   "metadata": {},
   "outputs": [],
   "source": [
    "# Convert the items into jsonl and write them to a file\n",
    "\n",
    "def write_jsonl(items, filename):\n",
    "    with open(filename, \"w\") as f:\n",
    "        jsonl = make_jsonl(items)\n",
    "        f.write(jsonl)"
   ]
  },
  {
   "cell_type": "code",
   "execution_count": 14,
   "id": "393d3ad8-999a-4f99-8c04-339d9166d604",
   "metadata": {},
   "outputs": [],
   "source": [
    "write_jsonl(fine_tune_train, \"fine_tune_train.jsonl\")"
   ]
  },
  {
   "cell_type": "code",
   "execution_count": 15,
   "id": "8e23927f-d73e-4668-ac20-abe6f14a56cb",
   "metadata": {},
   "outputs": [],
   "source": [
    "write_jsonl(fine_tune_validation, \"fine_tune_validation.jsonl\")"
   ]
  },
  {
   "cell_type": "code",
   "execution_count": 16,
   "id": "d59ad8d2-c61a-448e-b7ed-232f1606970f",
   "metadata": {},
   "outputs": [],
   "source": [
    "with open(\"fine_tune_train.jsonl\", \"rb\") as f:\n",
    "    train_file = openai.files.create(file=f, purpose=\"fine-tune\")"
   ]
  },
  {
   "cell_type": "code",
   "execution_count": 17,
   "id": "083fefba-fd54-47ce-9ff3-aabbc200846f",
   "metadata": {},
   "outputs": [
    {
     "data": {
      "text/plain": [
       "FileObject(id='file-3QtEqe9Dy2okX95YT2wV6K', bytes=190969, created_at=1739863166, filename='fine_tune_train.jsonl', object='file', purpose='fine-tune', status='processed', status_details=None)"
      ]
     },
     "execution_count": 17,
     "metadata": {},
     "output_type": "execute_result"
    }
   ],
   "source": [
    "train_file"
   ]
  },
  {
   "cell_type": "code",
   "execution_count": 18,
   "id": "97df3360-0760-4422-a556-5f26d23de6dc",
   "metadata": {},
   "outputs": [],
   "source": [
    "with open(\"fine_tune_validation.jsonl\", \"rb\") as f:\n",
    "    validation_file = openai.files.create(file=f, purpose=\"fine-tune\")"
   ]
  },
  {
   "cell_type": "code",
   "execution_count": 19,
   "id": "a1abb8f3-9e52-4061-970c-fcf399d8ffa3",
   "metadata": {},
   "outputs": [
    {
     "data": {
      "text/plain": [
       "FileObject(id='file-TcEhJkufRs512d8Nx4Jyxw', bytes=46823, created_at=1739863172, filename='fine_tune_validation.jsonl', object='file', purpose='fine-tune', status='processed', status_details=None)"
      ]
     },
     "execution_count": 19,
     "metadata": {},
     "output_type": "execute_result"
    }
   ],
   "source": [
    "validation_file"
   ]
  },
  {
   "cell_type": "markdown",
   "id": "466052b9-9fb9-48f6-8cf9-c74e6ddc1394",
   "metadata": {},
   "source": [
    "# Step 2\n",
    "\n",
    "I love Weights and Biases - a beautiful, free platform for monitoring training runs.  \n",
    "Weights and Biases is integrated with OpenAI for fine-tuning.\n",
    "\n",
    "First set up your weights & biases free account at:\n",
    "\n",
    "https://wandb.ai\n",
    "\n",
    "From the Avatar >> Settings menu, near the bottom, you can create an API key.\n",
    "\n",
    "Then visit the OpenAI dashboard at:\n",
    "\n",
    "https://platform.openai.com/account/organization\n",
    "\n",
    "In the integrations section, you can add your Weights & Biases key.\n",
    "\n",
    "## And now time to Fine-tune!"
   ]
  },
  {
   "cell_type": "code",
   "execution_count": 20,
   "id": "c7add1a7-a746-4d6e-a5f8-e25629b8b527",
   "metadata": {},
   "outputs": [],
   "source": [
    "wandb_integration = {\"type\": \"wandb\", \"wandb\": {\"project\": \"gpt-pricer\"}}"
   ]
  },
  {
   "cell_type": "code",
   "execution_count": 21,
   "id": "49801e69-9277-4deb-9f33-99efb6b45ac2",
   "metadata": {},
   "outputs": [
    {
     "data": {
      "text/plain": [
       "'file-3QtEqe9Dy2okX95YT2wV6K'"
      ]
     },
     "execution_count": 21,
     "metadata": {},
     "output_type": "execute_result"
    }
   ],
   "source": [
    "train_file.id"
   ]
  },
  {
   "cell_type": "code",
   "execution_count": 22,
   "id": "45421b86-5531-4e42-ab19-d6abbb8f4c13",
   "metadata": {},
   "outputs": [
    {
     "data": {
      "text/plain": [
       "FineTuningJob(id='ftjob-rfWQxIjtfV1abqfkjIknzOoc', created_at=1739863240, error=Error(code=None, message=None, param=None), fine_tuned_model=None, finished_at=None, hyperparameters=Hyperparameters(batch_size='auto', learning_rate_multiplier='auto', n_epochs=1), model='gpt-4o-mini-2024-07-18', object='fine_tuning.job', organization_id='org-Qbo8LudwumFrvkLvDEb8dYhY', result_files=[], seed=42, status='validating_files', trained_tokens=None, training_file='file-3QtEqe9Dy2okX95YT2wV6K', validation_file='file-TcEhJkufRs512d8Nx4Jyxw', estimated_finish=None, integrations=[FineTuningJobWandbIntegrationObject(type='wandb', wandb=FineTuningJobWandbIntegration(project='gpt-pricer', entity=None, name=None, tags=None, run_id='ftjob-rfWQxIjtfV1abqfkjIknzOoc'))], method=Method(dpo=None, supervised=MethodSupervised(hyperparameters=MethodSupervisedHyperparameters(batch_size='auto', learning_rate_multiplier='auto', n_epochs=1)), type='supervised'), user_provided_suffix='pricer')"
      ]
     },
     "execution_count": 22,
     "metadata": {},
     "output_type": "execute_result"
    }
   ],
   "source": [
    "openai.fine_tuning.jobs.create(\n",
    "    training_file=train_file.id,\n",
    "    validation_file=validation_file.id,\n",
    "    model=\"gpt-4o-mini-2024-07-18\",\n",
    "    seed=42,\n",
    "    hyperparameters={\"n_epochs\": 1},\n",
    "    integrations = [wandb_integration],\n",
    "    suffix=\"pricer\"\n",
    ")"
   ]
  },
  {
   "cell_type": "code",
   "execution_count": 23,
   "id": "aeb9de2e-542c-4e83-81c7-b6745133e48b",
   "metadata": {},
   "outputs": [
    {
     "data": {
      "text/plain": [
       "SyncCursorPage[FineTuningJob](data=[FineTuningJob(id='ftjob-rfWQxIjtfV1abqfkjIknzOoc', created_at=1739863240, error=Error(code=None, message=None, param=None), fine_tuned_model=None, finished_at=None, hyperparameters=Hyperparameters(batch_size='auto', learning_rate_multiplier='auto', n_epochs=1), model='gpt-4o-mini-2024-07-18', object='fine_tuning.job', organization_id='org-Qbo8LudwumFrvkLvDEb8dYhY', result_files=[], seed=42, status='validating_files', trained_tokens=None, training_file='file-3QtEqe9Dy2okX95YT2wV6K', validation_file='file-TcEhJkufRs512d8Nx4Jyxw', estimated_finish=None, integrations=[FineTuningJobWandbIntegrationObject(type='wandb', wandb=FineTuningJobWandbIntegration(project='gpt-pricer', entity=None, name=None, tags=None, run_id='ftjob-rfWQxIjtfV1abqfkjIknzOoc'))], method=Method(dpo=None, supervised=MethodSupervised(hyperparameters=MethodSupervisedHyperparameters(batch_size='auto', learning_rate_multiplier='auto', n_epochs=1)), type='supervised'), user_provided_suffix='pricer')], object='list', has_more=False)"
      ]
     },
     "execution_count": 23,
     "metadata": {},
     "output_type": "execute_result"
    }
   ],
   "source": [
    "openai.fine_tuning.jobs.list(limit=1)"
   ]
  },
  {
   "cell_type": "code",
   "execution_count": 10,
   "id": "40d24873-8ff5-413f-b0d4-8f77c28f18e1",
   "metadata": {},
   "outputs": [],
   "source": [
    "job_id = openai.fine_tuning.jobs.list(limit=1).data[0].id"
   ]
  },
  {
   "cell_type": "code",
   "execution_count": 11,
   "id": "a32aef35-4b38-436c-ad00-d082f758efa7",
   "metadata": {},
   "outputs": [
    {
     "data": {
      "text/plain": [
       "'ftjob-rfWQxIjtfV1abqfkjIknzOoc'"
      ]
     },
     "execution_count": 11,
     "metadata": {},
     "output_type": "execute_result"
    }
   ],
   "source": [
    "job_id"
   ]
  },
  {
   "cell_type": "code",
   "execution_count": 26,
   "id": "a7e01247-c133-48e1-93d3-c79c399e6178",
   "metadata": {},
   "outputs": [
    {
     "data": {
      "text/plain": [
       "FineTuningJob(id='ftjob-rfWQxIjtfV1abqfkjIknzOoc', created_at=1739863240, error=Error(code=None, message=None, param=None), fine_tuned_model=None, finished_at=None, hyperparameters=Hyperparameters(batch_size='auto', learning_rate_multiplier='auto', n_epochs=1), model='gpt-4o-mini-2024-07-18', object='fine_tuning.job', organization_id='org-Qbo8LudwumFrvkLvDEb8dYhY', result_files=[], seed=42, status='validating_files', trained_tokens=None, training_file='file-3QtEqe9Dy2okX95YT2wV6K', validation_file='file-TcEhJkufRs512d8Nx4Jyxw', estimated_finish=None, integrations=[FineTuningJobWandbIntegrationObject(type='wandb', wandb=FineTuningJobWandbIntegration(project='gpt-pricer', entity=None, name=None, tags=None, run_id='ftjob-rfWQxIjtfV1abqfkjIknzOoc'))], method=Method(dpo=None, supervised=MethodSupervised(hyperparameters=MethodSupervisedHyperparameters(batch_size='auto', learning_rate_multiplier='auto', n_epochs=1)), type='supervised'), user_provided_suffix='pricer')"
      ]
     },
     "execution_count": 26,
     "metadata": {},
     "output_type": "execute_result"
    }
   ],
   "source": [
    "openai.fine_tuning.jobs.retrieve(job_id)"
   ]
  },
  {
   "cell_type": "code",
   "execution_count": 29,
   "id": "0f5150e1-b8de-485f-8eba-cf1e5b00c117",
   "metadata": {},
   "outputs": [
    {
     "data": {
      "text/plain": [
       "[FineTuningJobEvent(id='ftevent-7DBVJKNc74UubLitwjQYJkpy', created_at=1739863905, level='info', message='The job has successfully completed', object='fine_tuning.job.event', data={}, type='message'),\n",
       " FineTuningJobEvent(id='ftevent-VyZY6Oh9sL6V5lIHHWUcTvkv', created_at=1739863900, level='info', message='New fine-tuned model created', object='fine_tuning.job.event', data={}, type='message'),\n",
       " FineTuningJobEvent(id='ftevent-tTR9nqo7SRvIQBuIVLokneFB', created_at=1739863814, level='info', message='Step 200/200: training loss=1.39, validation loss=1.40, full validation loss=1.08', object='fine_tuning.job.event', data={'step': 200, 'train_loss': 1.389542818069458, 'valid_loss': 1.3975396156311035, 'total_steps': 200, 'full_valid_loss': 1.077804741859436, 'train_mean_token_accuracy': 0.75, 'valid_mean_token_accuracy': 0.75, 'full_valid_mean_token_accuracy': 0.78}, type='metrics'),\n",
       " FineTuningJobEvent(id='ftevent-csv57uN57ylCpog5HLHcbyFS', created_at=1739863804, level='info', message='Step 199/200: training loss=0.74', object='fine_tuning.job.event', data={'step': 199, 'train_loss': 0.7416839599609375, 'total_steps': 200, 'train_mean_token_accuracy': 0.75}, type='metrics'),\n",
       " FineTuningJobEvent(id='ftevent-NotdHGcnHlvMbZBTzdiMSsM2', created_at=1739863804, level='info', message='Step 198/200: training loss=0.42', object='fine_tuning.job.event', data={'step': 198, 'train_loss': 0.4219326972961426, 'total_steps': 200, 'train_mean_token_accuracy': 0.875}, type='metrics'),\n",
       " FineTuningJobEvent(id='ftevent-Zi8mfS7SH6zTi9V1x67aKPL7', created_at=1739863804, level='info', message='Step 197/200: training loss=0.91', object='fine_tuning.job.event', data={'step': 197, 'train_loss': 0.9070470333099365, 'total_steps': 200, 'train_mean_token_accuracy': 0.875}, type='metrics'),\n",
       " FineTuningJobEvent(id='ftevent-5Sp4JMpzFklqFmHA8rlNi6ip', created_at=1739863804, level='info', message='Step 196/200: training loss=0.52', object='fine_tuning.job.event', data={'step': 196, 'train_loss': 0.5215234756469727, 'total_steps': 200, 'train_mean_token_accuracy': 0.875}, type='metrics'),\n",
       " FineTuningJobEvent(id='ftevent-kYYMDHUxnBNXk7a7MXZQhHwu', created_at=1739863799, level='info', message='Step 195/200: training loss=0.76', object='fine_tuning.job.event', data={'step': 195, 'train_loss': 0.7629590034484863, 'total_steps': 200, 'train_mean_token_accuracy': 0.875}, type='metrics'),\n",
       " FineTuningJobEvent(id='ftevent-eDNToBEPlGkRxAxOwJhmlpLv', created_at=1739863799, level='info', message='Step 194/200: training loss=1.73', object='fine_tuning.job.event', data={'step': 194, 'train_loss': 1.728104829788208, 'total_steps': 200, 'train_mean_token_accuracy': 0.75}, type='metrics'),\n",
       " FineTuningJobEvent(id='ftevent-Tw0wvzPawbDjQR36GQy1JzG7', created_at=1739863799, level='info', message='Step 193/200: training loss=1.01', object='fine_tuning.job.event', data={'step': 193, 'train_loss': 1.0074527263641357, 'total_steps': 200, 'train_mean_token_accuracy': 0.75}, type='metrics')]"
      ]
     },
     "execution_count": 29,
     "metadata": {},
     "output_type": "execute_result"
    }
   ],
   "source": [
    "openai.fine_tuning.jobs.list_events(fine_tuning_job_id=job_id, limit=10).data"
   ]
  },
  {
   "cell_type": "markdown",
   "id": "066fef03-8338-4526-9df3-89b649ad4f0a",
   "metadata": {},
   "source": [
    "# Step 3\n",
    "\n",
    "Test our fine tuned model"
   ]
  },
  {
   "cell_type": "code",
   "execution_count": 12,
   "id": "fa4488cb-3c17-4eda-abd1-53c1c68a491b",
   "metadata": {},
   "outputs": [],
   "source": [
    "fine_tuned_model_name = openai.fine_tuning.jobs.retrieve(job_id).fine_tuned_model"
   ]
  },
  {
   "cell_type": "code",
   "execution_count": 13,
   "id": "e9370937-5a6f-4724-8265-b208663b4450",
   "metadata": {},
   "outputs": [
    {
     "data": {
      "text/plain": [
       "'ft:gpt-4o-mini-2024-07-18:personal:pricer:B2CMtW1g'"
      ]
     },
     "execution_count": 13,
     "metadata": {},
     "output_type": "execute_result"
    }
   ],
   "source": [
    "fine_tuned_model_name"
   ]
  },
  {
   "cell_type": "code",
   "execution_count": 14,
   "id": "66ea68e8-ab1b-4f0d-aba4-a59574d8f85e",
   "metadata": {},
   "outputs": [],
   "source": [
    "# The prompt\n",
    "\n",
    "def messages_for(item):\n",
    "    system_message = \"You estimate prices of items. Reply only with the price, no explanation\"\n",
    "    user_prompt = item.test_prompt().replace(\" to the nearest dollar\",\"\").replace(\"\\n\\nPrice is $\",\"\")\n",
    "    return [\n",
    "        {\"role\": \"system\", \"content\": system_message},\n",
    "        {\"role\": \"user\", \"content\": user_prompt},\n",
    "        {\"role\": \"assistant\", \"content\": \"Price is $\"}\n",
    "    ]"
   ]
  },
  {
   "cell_type": "code",
   "execution_count": 15,
   "id": "4ff92d61-0d27-4b0d-8b32-c9891016509b",
   "metadata": {},
   "outputs": [
    {
     "data": {
      "text/plain": [
       "[{'role': 'system',\n",
       "  'content': 'You estimate prices of items. Reply only with the price, no explanation'},\n",
       " {'role': 'user',\n",
       "  'content': 'How much does this cost?\\n\\nCardone Remanufactured Anti-Lock Brakes ABS Hydraulic Assembly Unit (Renewed)\\nCARDONE Remanufactured ABS Control Modules are designed to meet or exceed O.E. performance. Reverse engineering provides insight into how and why the unit originally failed, allowing our engineers to identify and correct original design flaws. Every CARDONE unit goes through stringent testing, ensuring like-new performance and quick reaction time when traction control is required. As a remanufactured Original Equipment part, this unit assures a perfect vehicle fit All modules are fully tested with automated computerized test equipment to ensure functionality and reliable High-pressure hydraulic testing ensures zero leakage for long-lasting performance; field testing further ensures product reliability Air-decay testing ensures zero brake fluid leakage for guaranteed, consistent performance Manufacturer A1 Cardone, Brand Card'},\n",
       " {'role': 'assistant', 'content': 'Price is $'}]"
      ]
     },
     "execution_count": 15,
     "metadata": {},
     "output_type": "execute_result"
    }
   ],
   "source": [
    "# Try this out\n",
    "\n",
    "messages_for(test[0])"
   ]
  },
  {
   "cell_type": "code",
   "execution_count": 16,
   "id": "b1af1888-f94a-4106-b0d8-8a70939eec4e",
   "metadata": {},
   "outputs": [],
   "source": [
    "# A utility function to extract the price from a string\n",
    "\n",
    "def get_price(s):\n",
    "    s = s.replace('$','').replace(',','')\n",
    "    match = re.search(r\"[-+]?\\d*\\.\\d+|\\d+\", s)\n",
    "    return float(match.group()) if match else 0"
   ]
  },
  {
   "cell_type": "code",
   "execution_count": 17,
   "id": "f138c5b7-bcc1-4085-aced-68dad1bf36b4",
   "metadata": {},
   "outputs": [
    {
     "data": {
      "text/plain": [
       "99.99"
      ]
     },
     "execution_count": 17,
     "metadata": {},
     "output_type": "execute_result"
    }
   ],
   "source": [
    "get_price(\"The price is roughly $99.99 because blah blah\")"
   ]
  },
  {
   "cell_type": "code",
   "execution_count": 18,
   "id": "501a2a7a-69c8-451b-bbc0-398bcb9e1612",
   "metadata": {},
   "outputs": [],
   "source": [
    "# The function for gpt-4o-mini\n",
    "\n",
    "def gpt_fine_tuned(item):\n",
    "    response = openai.chat.completions.create(\n",
    "        model=fine_tuned_model_name, \n",
    "        messages=messages_for(item),\n",
    "        seed=42,\n",
    "        max_tokens=7\n",
    "    )\n",
    "    reply = response.choices[0].message.content\n",
    "    return get_price(reply)"
   ]
  },
  {
   "cell_type": "code",
   "execution_count": 19,
   "id": "843d88b4-364a-431b-b48b-8a7c1f68b786",
   "metadata": {},
   "outputs": [
    {
     "name": "stdout",
     "output_type": "stream",
     "text": [
      "174.35\n",
      "47.22\n"
     ]
    }
   ],
   "source": [
    "print(test[0].price)\n",
    "print(gpt_fine_tuned(test[0]))"
   ]
  },
  {
   "cell_type": "code",
   "execution_count": 20,
   "id": "edd7ada0-15b7-42ec-bbbb-1250e0eb9af1",
   "metadata": {},
   "outputs": [
    {
     "name": "stdout",
     "output_type": "stream",
     "text": [
      "How much does this cost to the nearest dollar?\n",
      "\n",
      "Cardone Remanufactured Anti-Lock Brakes ABS Hydraulic Assembly Unit (Renewed)\n",
      "CARDONE Remanufactured ABS Control Modules are designed to meet or exceed O.E. performance. Reverse engineering provides insight into how and why the unit originally failed, allowing our engineers to identify and correct original design flaws. Every CARDONE unit goes through stringent testing, ensuring like-new performance and quick reaction time when traction control is required. As a remanufactured Original Equipment part, this unit assures a perfect vehicle fit All modules are fully tested with automated computerized test equipment to ensure functionality and reliable High-pressure hydraulic testing ensures zero leakage for long-lasting performance; field testing further ensures product reliability Air-decay testing ensures zero brake fluid leakage for guaranteed, consistent performance Manufacturer A1 Cardone, Brand Card\n",
      "\n",
      "Price is $\n"
     ]
    }
   ],
   "source": [
    "print(test[0].test_prompt())"
   ]
  },
  {
   "cell_type": "code",
   "execution_count": 21,
   "id": "36bdd2c9-1859-4f99-a09f-3ec83b845b30",
   "metadata": {},
   "outputs": [
    {
     "name": "stdout",
     "output_type": "stream",
     "text": [
      "\u001b[91m1: Guess: $47.22 Truth: $174.35 Error: $127.13 SLE: 1.67 Item: Cardone 12-2006 Remanufactured Anti-Lock...\u001b[0m\n",
      "\u001b[93m2: Guess: $127.99 Truth: $169.99 Error: $42.00 SLE: 0.08 Item: Sony RDR-GX355 Tunerless DVD Recorder\u001b[0m\n",
      "\u001b[91m3: Guess: $393.69 Truth: $769.00 Error: $375.31 SLE: 0.45 Item: 2022 Newest HP 17t Laptop, 17.3\" HD+ Tou...\u001b[0m\n",
      "\u001b[91m4: Guess: $47.99 Truth: $134.54 Error: $86.55 SLE: 1.04 Item: Alert FTL230 Bench Lamp with Dual 220 Lu...\u001b[0m\n",
      "\u001b[93m5: Guess: $239.00 Truth: $179.99 Error: $59.01 SLE: 0.08 Item: VocoPro TabletOke-II Digital Karaoke Mix...\u001b[0m\n",
      "\u001b[93m6: Guess: $127.22 Truth: $201.41 Error: $74.19 SLE: 0.21 Item: For Ford Expedition & Lincoln Navigator ...\u001b[0m\n",
      "\u001b[93m7: Guess: $219.65 Truth: $338.31 Error: $118.66 SLE: 0.19 Item: Skunk2 Racing 344-05-1300 Alpha Valve Sp...\u001b[0m\n",
      "\u001b[93m8: Guess: $65.65 Truth: $2.56 Error: $63.09 SLE: 8.58 Item: Timberline - 1/4\" Diameter Brad Pt. Wood...\u001b[0m\n",
      "\u001b[92m9: Guess: $127.22 Truth: $134.54 Error: $7.32 SLE: 0.00 Item: 8 Pcs Kit Front Inner Outer Tie Rod Ends...\u001b[0m\n",
      "\u001b[93m10: Guess: $219.00 Truth: $161.04 Error: $57.96 SLE: 0.09 Item: Dell 27 Inch Monitor SE2719H-View Images...\u001b[0m\n",
      "\u001b[93m11: Guess: $262.47 Truth: $344.05 Error: $81.58 SLE: 0.07 Item: Walker Exhaust Ultra EPA 54480 Direct Fi...\u001b[0m\n",
      "\u001b[91m12: Guess: $127.22 Truth: $355.95 Error: $228.73 SLE: 1.05 Item: Autozensation Compatible with 2011-2013 ...\u001b[0m\n",
      "\u001b[92m13: Guess: $109.00 Truth: $72.88 Error: $36.12 SLE: 0.16 Item: US Energy Products Reflective Aluminum F...\u001b[0m\n",
      "\u001b[92m14: Guess: $99.00 Truth: $101.37 Error: $2.37 SLE: 0.00 Item: Hamilton Buhl Camera-DC2 12MP Digital Ca...\u001b[0m\n",
      "\u001b[92m15: Guess: $127.22 Truth: $119.34 Error: $7.88 SLE: 0.00 Item: SARGENT Tools 3187 CT Metri-Pack 280 Uns...\u001b[0m\n",
      "\u001b[92m16: Guess: $47.22 Truth: $79.00 Error: $31.78 SLE: 0.26 Item: PN00218-CYT14 Cytron Motor Driver 30Amp ...\u001b[0m\n",
      "\u001b[92m17: Guess: $100.69 Truth: $91.58 Error: $9.11 SLE: 0.01 Item: Stahwhile 96400813 Combination Wrenches ...\u001b[0m\n",
      "\u001b[93m18: Guess: $127.22 Truth: $176.99 Error: $49.77 SLE: 0.11 Item: Greenlee 28160 Self-Centering Slug-Split...\u001b[0m\n",
      "\u001b[91m19: Guess: $317.50 Truth: $599.99 Error: $282.49 SLE: 0.40 Item: Supermicro H8DGU-F Dual AMD Opteron Moth...\u001b[0m\n",
      "\u001b[93m20: Guess: $390.22 Truth: $499.00 Error: $108.78 SLE: 0.06 Item: Form Lighting Sequential LED Tail Lights...\u001b[0m\n",
      "\u001b[92m21: Guess: $47.22 Truth: $51.00 Error: $3.78 SLE: 0.01 Item: 15 pcs Garage Door 2\" Nylon Roller / HEA...\u001b[0m\n",
      "\u001b[92m22: Guess: $221.65 Truth: $208.39 Error: $13.26 SLE: 0.00 Item: Lexmark 36S3110 550-Sheet Tray - 1 x 550...\u001b[0m\n",
      "\u001b[93m23: Guess: $139.98 Truth: $213.28 Error: $73.30 SLE: 0.18 Item: Warehouse of Tiffany T14288TGRA Tiffany ...\u001b[0m\n",
      "\u001b[92m24: Guess: $47.22 Truth: $82.43 Error: $35.21 SLE: 0.30 Item: Minka-Aire 72 Inch Ceiling Fan Downrod -...\u001b[0m\n",
      "\u001b[91m25: Guess: $47.22 Truth: $357.99 Error: $310.77 SLE: 4.03 Item: Sony DVP-CX985V 400 Disc Progressive DVD...\u001b[0m\n",
      "\u001b[93m26: Guess: $594.65 Truth: $463.99 Error: $130.66 SLE: 0.06 Item: RAMPAGE PRODUCTS Frameless Trail Top | S...\u001b[0m\n",
      "\u001b[91m27: Guess: $99.95 Truth: $184.99 Error: $85.04 SLE: 0.37 Item: BioLite BaseLantern Lantern and Power Ba...\u001b[0m\n",
      "\u001b[92m28: Guess: $8.99 Truth: $5.99 Error: $3.00 SLE: 0.13 Item: BKLN Brooklyn New York Oval Vinyl Car Bu...\u001b[0m\n",
      "\u001b[93m29: Guess: $66.47 Truth: $126.93 Error: $60.46 SLE: 0.41 Item: A-Tech 32GB (4x8GB) DDR3L 1600 MHz SODIM...\u001b[0m\n",
      "\u001b[92m30: Guess: $221.65 Truth: $188.22 Error: $33.43 SLE: 0.03 Item: Starter Compatible with/Replacement for ...\u001b[0m\n",
      "\u001b[91m31: Guess: $47.22 Truth: $278.94 Error: $231.72 SLE: 3.09 Item: Warehouse of Tiffany PD002/6BR Sonoma Wo...\u001b[0m\n",
      "\u001b[92m32: Guess: $154.65 Truth: $154.41 Error: $0.24 SLE: 0.00 Item: For Audi A4 Quattro A4 A6 Quattro A5 Qua...\u001b[0m\n",
      "\u001b[92m33: Guess: $274.00 Truth: $336.00 Error: $62.00 SLE: 0.04 Item: Niche M116 Misano 19x8.5 5x120 +35mm Ant...\u001b[0m\n",
      "\u001b[92m34: Guess: $277.65 Truth: $299.99 Error: $22.34 SLE: 0.01 Item: PEDAL COMMANDER for Chevrolet Suburban (...\u001b[0m\n",
      "\u001b[93m35: Guess: $127.99 Truth: $180.72 Error: $52.73 SLE: 0.12 Item: Dell Optiplex 9020 USFF Ultra-Slim Busin...\u001b[0m\n",
      "\u001b[92m36: Guess: $47.22 Truth: $43.03 Error: $4.19 SLE: 0.01 Item: Wilson Jones S300 Line Accounting Journa...\u001b[0m\n",
      "\u001b[92m37: Guess: $139.98 Truth: $127.99 Error: $11.99 SLE: 0.01 Item: Olafus 2 Pack 100W LED Flood Light Outdo...\u001b[0m\n",
      "\u001b[91m38: Guess: $127.22 Truth: $275.00 Error: $147.78 SLE: 0.59 Item: GridGear kWH Electric Meter, 120/208/240...\u001b[0m\n",
      "\u001b[93m39: Guess: $65.65 Truth: $7.91 Error: $57.74 SLE: 4.05 Item: Dorman 74326 Rectangular Dome Lens Assor...\u001b[0m\n",
      "\u001b[93m40: Guess: $139.98 Truth: $189.99 Error: $50.01 SLE: 0.09 Item: kadision 4ft LED Vapor Tight Light, 60W/...\u001b[0m\n",
      "\u001b[92m41: Guess: $154.65 Truth: $191.97 Error: $37.32 SLE: 0.05 Item: Schluter Kerdi 48-Inch x 72-Inch Shower ...\u001b[0m\n",
      "\u001b[92m42: Guess: $127.99 Truth: $99.95 Error: $28.04 SLE: 0.06 Item: Motorola Moto 360 - Black Leather Smart ...\u001b[0m\n",
      "\u001b[92m43: Guess: $143.65 Truth: $177.83 Error: $34.18 SLE: 0.04 Item: EMMA + OLIVER Mid-Back Pink Vinyl Execut...\u001b[0m\n",
      "\u001b[92m44: Guess: $47.22 Truth: $65.99 Error: $18.77 SLE: 0.11 Item: (100) White Standard 20mil DVD Case Divi...\u001b[0m\n",
      "\u001b[91m45: Guess: $47.22 Truth: $485.25 Error: $438.03 SLE: 5.34 Item: Callahan CCK01880 FRONT + REAR Premium O...\u001b[0m\n",
      "\u001b[92m46: Guess: $22.99 Truth: $3.58 Error: $19.41 SLE: 2.74 Item: amscan Hot Wheels Speed City Party Blowo...\u001b[0m\n",
      "\u001b[92m47: Guess: $594.00 Truth: $562.00 Error: $32.00 SLE: 0.00 Item: Tyger Auto TG-BP9D80398 Tyger Fury Rear ...\u001b[0m\n",
      "\u001b[93m48: Guess: $100.69 Truth: $171.05 Error: $70.36 SLE: 0.28 Item: Front Shock Strut Spring Assembly LH Dri...\u001b[0m\n",
      "\u001b[93m49: Guess: $221.65 Truth: $152.59 Error: $69.06 SLE: 0.14 Item: Garage-Pro Bumper Cover Compatible with ...\u001b[0m\n",
      "\u001b[92m50: Guess: $164.50 Truth: $184.40 Error: $19.90 SLE: 0.01 Item: edxeducation Sand and Water Tray - Trans...\u001b[0m\n",
      "\u001b[91m51: Guess: $127.22 Truth: $533.96 Error: $406.74 SLE: 2.04 Item: Nitrous Express NX400S 4-Cylinder Piranh...\u001b[0m\n",
      "\u001b[92m52: Guess: $127.22 Truth: $156.51 Error: $29.29 SLE: 0.04 Item: Sherman Replacement Part Compatible with...\u001b[0m\n",
      "\u001b[92m53: Guess: $164.50 Truth: $188.00 Error: $23.50 SLE: 0.02 Item: Sailor 1911 Large Black Gold Trim 21K Go...\u001b[0m\n",
      "\u001b[91m54: Guess: $109.00 Truth: $599.66 Error: $490.66 SLE: 2.88 Item: Sony DSJ15 Portable CD Walkman\u001b[0m\n",
      "\u001b[91m55: Guess: $22.99 Truth: $113.99 Error: $91.00 SLE: 2.46 Item: Monster High Boo York, Boo York Floatati...\u001b[0m\n",
      "\u001b[91m56: Guess: $47.22 Truth: $247.99 Error: $200.77 SLE: 2.69 Item: Power Stop Front S3122A Pair of High-Tem...\u001b[0m\n",
      "\u001b[92m57: Guess: $47.99 Truth: $14.99 Error: $33.00 SLE: 1.25 Item: MightySkins Skin Compatible with Skullca...\u001b[0m\n",
      "\u001b[92m58: Guess: $174.00 Truth: $152.06 Error: $21.94 SLE: 0.02 Item: Streamlight 78101 Stinger 2020 Rechargea...\u001b[0m\n",
      "\u001b[93m59: Guess: $110.47 Truth: $152.25 Error: $41.78 SLE: 0.10 Item: Westinghouse Lighting 7225000 Willa Indo...\u001b[0m\n",
      "\u001b[92m60: Guess: $22.69 Truth: $34.01 Error: $11.32 SLE: 0.15 Item: Noctua NF-F12 iPPC-2000, Heavy Duty Cool...\u001b[0m\n",
      "\u001b[91m61: Guess: $239.99 Truth: $699.97 Error: $459.98 SLE: 1.14 Item: Sopbost 24V Ride On Toys for Big Kids wi...\u001b[0m\n",
      "\u001b[92m62: Guess: $22.99 Truth: $32.99 Error: $10.00 SLE: 0.12 Item: Banpresto 16657 Dragon Ball Super Mega W...\u001b[0m\n",
      "\u001b[91m63: Guess: $726.65 Truth: $350.00 Error: $376.65 SLE: 0.53 Item: Panasonic PTVW330U LCD Projector\u001b[0m\n",
      "\u001b[91m64: Guess: $47.99 Truth: $185.78 Error: $137.79 SLE: 1.79 Item: Furuix Car Dent Remover Paintless Dent R...\u001b[0m\n",
      "\u001b[91m65: Guess: $202.65 Truth: $375.66 Error: $173.01 SLE: 0.38 Item: Detroit Axle - 14pc Front Upper Lower Co...\u001b[0m\n",
      "\u001b[91m66: Guess: $393.69 Truth: $250.00 Error: $143.69 SLE: 0.20 Item: Belltech 5400 Front Anti-Swaybar\u001b[0m\n",
      "\u001b[91m67: Guess: $276.10 Truth: $97.40 Error: $178.70 SLE: 1.07 Item: CarPartsDepot New Replacement Parts Fron...\u001b[0m\n",
      "\u001b[92m68: Guess: $83.77 Truth: $65.79 Error: $17.98 SLE: 0.06 Item: Energy Suspension 4.3132R Control Arm Bu...\u001b[0m\n",
      "\u001b[93m69: Guess: $139.98 Truth: $189.99 Error: $50.01 SLE: 0.09 Item: Color + Plus Carnival Carrie Table Lamp ...\u001b[0m\n",
      "\u001b[92m70: Guess: $66.47 Truth: $60.99 Error: $5.48 SLE: 0.01 Item: Reborn Baby Doll, Soft Body, African Ame...\u001b[0m\n",
      "\u001b[92m71: Guess: $219.65 Truth: $225.74 Error: $6.09 SLE: 0.00 Item: United Pacific 31225 Blackout Projection...\u001b[0m\n",
      "\u001b[93m72: Guess: $199.00 Truth: $329.00 Error: $130.00 SLE: 0.25 Item: ACEMAGIC Mini PC, Intel i5-11320H(Up to ...\u001b[0m\n",
      "\u001b[91m73: Guess: $139.98 Truth: $499.99 Error: $360.01 SLE: 1.61 Item: Possini Euro Design Light Blaster Modern...\u001b[0m\n",
      "\u001b[91m74: Guess: $47.98 Truth: $269.73 Error: $221.75 SLE: 2.92 Item: DEWALT DCGG571B 20V MAX Grease Gun with ...\u001b[0m\n",
      "\u001b[93m75: Guess: $66.47 Truth: $123.75 Error: $57.28 SLE: 0.38 Item: figma Terra Formers Terra former (non-sc...\u001b[0m\n",
      "\u001b[93m76: Guess: $47.99 Truth: $109.99 Error: $62.00 SLE: 0.67 Item: HD 1280x720p Rear Reversing Backup Camer...\u001b[0m\n",
      "\u001b[91m77: Guess: $239.00 Truth: $560.00 Error: $321.00 SLE: 0.72 Item: Sonneman 2432.01-ST Transitional LED Bat...\u001b[0m\n",
      "\u001b[92m78: Guess: $262.47 Truth: $259.88 Error: $2.59 SLE: 0.00 Item: Bridgestone Dueler A/T Revo 2 All Terrai...\u001b[0m\n",
      "\u001b[91m79: Guess: $47.22 Truth: $199.95 Error: $152.73 SLE: 2.04 Item: Bushnell Backtrack Point-5 Personal GPS ...\u001b[0m\n",
      "\u001b[93m80: Guess: $146.22 Truth: $192.99 Error: $46.77 SLE: 0.08 Item: Cooper Endeavor Plus All-Season 245/60R1...\u001b[0m\n",
      "\u001b[93m81: Guess: $127.22 Truth: $54.28 Error: $72.94 SLE: 0.71 Item: Western Enterprises FA-10 Flashback Arre...\u001b[0m\n",
      "\u001b[91m82: Guess: $47.22 Truth: $136.64 Error: $89.42 SLE: 1.10 Item: 12014254 Weatherpack Crimp Tool\u001b[0m\n",
      "\u001b[92m83: Guess: $219.00 Truth: $258.90 Error: $39.90 SLE: 0.03 Item: ASUS - 17.3'' Chromebook - Intel Celeron...\u001b[0m\n",
      "\u001b[91m84: Guess: $128.66 Truth: $226.85 Error: $98.19 SLE: 0.32 Item: WAC Lighting dweLED, Slice 15in LED Roun...\u001b[0m\n",
      "\u001b[91m85: Guess: $221.65 Truth: $409.99 Error: $188.34 SLE: 0.38 Item: Raptor Series Nerf Bars Side Steps 5in O...\u001b[0m\n",
      "\u001b[91m86: Guess: $47.22 Truth: $150.68 Error: $103.46 SLE: 1.31 Item: Bogen - Manfrotto Wall Mounting Boom Arm\u001b[0m\n",
      "\u001b[91m87: Guess: $47.22 Truth: $244.91 Error: $197.69 SLE: 2.65 Item: ACDelco Gold 334-2918 Alternator, Remanu...\u001b[0m\n",
      "\u001b[91m88: Guess: $65.65 Truth: $299.95 Error: $234.30 SLE: 2.27 Item: NEW MERCURY/QUICKSILVER W LINE-FUEL-5/16...\u001b[0m\n",
      "\u001b[91m89: Guess: $49.99 Truth: $200.99 Error: $151.00 SLE: 1.89 Item: Hatchimal Surprise Twins Zuffin - Styles...\u001b[0m\n",
      "\u001b[92m90: Guess: $66.47 Truth: $96.90 Error: $30.43 SLE: 0.14 Item: Feit ESL40TN/D/12 150W Equivalent CFL Tw...\u001b[0m\n",
      "\u001b[92m91: Guess: $262.47 Truth: $277.65 Error: $15.18 SLE: 0.00 Item: PowerSport Front Rear Brakes and Rotors ...\u001b[0m\n",
      "\u001b[93m92: Guess: $579.00 Truth: $749.00 Error: $170.00 SLE: 0.07 Item: MOTU 828mk3 Hybrid Firewire Audio Interf...\u001b[0m\n",
      "\u001b[91m93: Guess: $1,127.00 Truth: $699.99 Error: $427.01 SLE: 0.23 Item: Nikon D7000 16.2MP DX-Format CMOS Digita...\u001b[0m\n",
      "\u001b[93m94: Guess: $118.10 Truth: $185.01 Error: $66.91 SLE: 0.20 Item: Delta Faucet Ara 6-Setting Shower Handle...\u001b[0m\n",
      "\u001b[91m95: Guess: $47.22 Truth: $693.90 Error: $646.68 SLE: 7.12 Item: AudioCodes MediaPack MP-118-FXS Analog V...\u001b[0m\n",
      "\u001b[93m96: Guess: $219.00 Truth: $172.19 Error: $46.81 SLE: 0.06 Item: cciyu Tonneau Cover 5.7FT Bed for Dodge ...\u001b[0m\n",
      "\u001b[92m97: Guess: $30.47 Truth: $23.99 Error: $6.48 SLE: 0.05 Item: 30 Pieces Holographic Bubble Mailers Bub...\u001b[0m\n",
      "\u001b[92m98: Guess: $47.22 Truth: $65.30 Error: $18.08 SLE: 0.10 Item: Vortex 436-40 Silver 40-Tooth 530-Pitch ...\u001b[0m\n",
      "\u001b[92m99: Guess: $47.99 Truth: $61.99 Error: $14.00 SLE: 0.06 Item: Funko Pop! Deluxe: Game of Thrones - Hod...\u001b[0m\n",
      "\u001b[92m100: Guess: $221.00 Truth: $259.99 Error: $38.99 SLE: 0.03 Item: Canon Battery Grip BG-E20\u001b[0m\n",
      "\u001b[92m101: Guess: $47.99 Truth: $29.99 Error: $18.00 SLE: 0.21 Item: Screen Replacement for Moto G7 Plus 6.2'...\u001b[0m\n",
      "\u001b[92m102: Guess: $22.50 Truth: $13.94 Error: $8.56 SLE: 0.21 Item: Littlest Pet Shop Tiny Pet Carrier Toy, ...\u001b[0m\n",
      "\u001b[93m103: Guess: $22.99 Truth: $74.99 Error: $52.00 SLE: 1.33 Item: 250 CBG 5mm 190pt Pro Top Loaders Toploa...\u001b[0m\n",
      "\u001b[92m104: Guess: $726.65 Truth: $655.00 Error: $71.65 SLE: 0.01 Item: HOMECART 48 inch Bathroom Vanity Glass T...\u001b[0m\n",
      "\u001b[92m105: Guess: $219.98 Truth: $183.01 Error: $36.97 SLE: 0.03 Item: Coverking Custom Fit Car Cover for Selec...\u001b[0m\n",
      "\u001b[92m106: Guess: $262.47 Truth: $239.95 Error: $22.52 SLE: 0.01 Item: American Sound Connection FORD4DR2X10 Co...\u001b[0m\n",
      "\u001b[92m107: Guess: $66.47 Truth: $95.00 Error: $28.53 SLE: 0.12 Item: Califone 2810-BE Listening First Stereo ...\u001b[0m\n",
      "\u001b[92m108: Guess: $37.47 Truth: $2.83 Error: $34.64 SLE: 5.32 Item: Legrand-Pass & Seymour CR20RED Ca1 Gang ...\u001b[0m\n",
      "\u001b[92m109: Guess: $127.22 Truth: $127.47 Error: $0.25 SLE: 0.00 Item: Coverking Custom Fit Front 50/50 Bucket ...\u001b[0m\n",
      "\u001b[92m110: Guess: $109.00 Truth: $120.00 Error: $11.00 SLE: 0.01 Item: Diamondback Deluxe Suspenders Tool Belts...\u001b[0m\n",
      "\u001b[92m111: Guess: $262.47 Truth: $293.42 Error: $30.95 SLE: 0.01 Item: Tusk Impact Complete Wheel - Rear 18 x 2...\u001b[0m\n",
      "\u001b[92m112: Guess: $4.99 Truth: $6.99 Error: $2.00 SLE: 0.08 Item: Huxters Funny Father’s Day Card – Hilari...\u001b[0m\n",
      "\u001b[93m113: Guess: $239.66 Truth: $339.99 Error: $100.33 SLE: 0.12 Item: ELITEWILL Front Fuel Tank Support Crossm...\u001b[0m\n",
      "\u001b[92m114: Guess: $18.77 Truth: $22.83 Error: $4.06 SLE: 0.03 Item: 7 Piece Mini Screwdriver Set, Ideal for ...\u001b[0m\n",
      "\u001b[93m115: Guess: $726.65 Truth: $599.99 Error: $126.66 SLE: 0.04 Item: Vintage Air COMPAC GEN II W/DEF (68000-V...\u001b[0m\n",
      "\u001b[92m116: Guess: $14.98 Truth: $8.99 Error: $5.99 SLE: 0.22 Item: Business Card Holder,Dog Puppy Pomerania...\u001b[0m\n",
      "\u001b[92m117: Guess: $47.22 Truth: $28.90 Error: $18.32 SLE: 0.23 Item: 7PCS/Set Multi-Purpose Heavy Duty Shock ...\u001b[0m\n",
      "\u001b[92m118: Guess: $99.99 Truth: $111.99 Error: $12.00 SLE: 0.01 Item: beFree Sound 10\" Bluetooth Portable Spea...\u001b[0m\n",
      "\u001b[92m119: Guess: $47.22 Truth: $63.79 Error: $16.57 SLE: 0.09 Item: Pagid 355008141 Disc Brake Pad Set\u001b[0m\n",
      "\u001b[93m120: Guess: $219.98 Truth: $155.99 Error: $63.99 SLE: 0.12 Item: Sport Front Bumper, KEMIMOTO Front Lower...\u001b[0m\n",
      "\u001b[92m121: Guess: $164.50 Truth: $149.99 Error: $14.51 SLE: 0.01 Item: CYBERBEANS 4PCS for Tesla Model Y Wheel ...\u001b[0m\n",
      "\u001b[93m122: Guess: $276.10 Truth: $209.42 Error: $66.68 SLE: 0.08 Item: Detroit Axle - Front and Rear Disc Brake...\u001b[0m\n",
      "\u001b[92m123: Guess: $66.47 Truth: $68.99 Error: $2.52 SLE: 0.00 Item: TBBGA LED Cordless Table Lamps Set of 2,...\u001b[0m\n",
      "\u001b[92m124: Guess: $109.00 Truth: $128.99 Error: $19.99 SLE: 0.03 Item: IFOOTAGE 32\" Camera Support Arm, Spider ...\u001b[0m\n",
      "\u001b[93m125: Guess: $100.69 Truth: $175.99 Error: $75.30 SLE: 0.31 Item: Black Widow AF-9012-HD Aluminum 7' 5\" Ar...\u001b[0m\n",
      "\u001b[93m126: Guess: $262.47 Truth: $196.99 Error: $65.48 SLE: 0.08 Item: Prothane (7-141) 99-06 Chevy Silverado 2...\u001b[0m\n",
      "\u001b[92m127: Guess: $147.65 Truth: $109.36 Error: $38.29 SLE: 0.09 Item: Proto J4750HTCF 1/4\" Drive Flex Head Pre...\u001b[0m\n",
      "\u001b[92m128: Guess: $154.65 Truth: $126.35 Error: $28.30 SLE: 0.04 Item: Trans Globe Lighting TG51000 BK Traditio...\u001b[0m\n",
      "\u001b[91m129: Guess: $66.47 Truth: $187.99 Error: $121.52 SLE: 1.06 Item: Dometic SeaStar Pro Outboard Hose Kit, H...\u001b[0m\n",
      "\u001b[91m130: Guess: $199.00 Truth: $399.00 Error: $200.00 SLE: 0.48 Item: TravelWiFi Sapphire 5G Mobile Hotspot, P...\u001b[0m\n",
      "\u001b[92m131: Guess: $322.22 Truth: $339.00 Error: $16.78 SLE: 0.00 Item: RAM Clutches 98778 Powergrip Clutch Set\u001b[0m\n",
      "\u001b[92m132: Guess: $65.65 Truth: $60.60 Error: $5.05 SLE: 0.01 Item: ACDelco Gold 22581M Molded Upper Radiato...\u001b[0m\n",
      "\u001b[93m133: Guess: $109.00 Truth: $54.47 Error: $54.53 SLE: 0.47 Item: Standing Desk Mat Balance Board, YESMET ...\u001b[0m\n",
      "\u001b[91m134: Guess: $47.22 Truth: $206.60 Error: $159.38 SLE: 2.13 Item: WA9260 RED FRONT BUMPER END CAP FOG LIGH...\u001b[0m\n",
      "\u001b[93m135: Guess: $47.99 Truth: $100.00 Error: $52.01 SLE: 0.52 Item: 3000-7.5x10.5 WHITE POLY MAILERS ENVELOP...\u001b[0m\n",
      "\u001b[92m136: Guess: $65.65 Truth: $95.62 Error: $29.97 SLE: 0.14 Item: Cisco Twinax 30AWG Cable Assembly, Passi...\u001b[0m\n",
      "\u001b[92m137: Guess: $47.95 Truth: $9.99 Error: $37.96 SLE: 2.23 Item: 3 Pack - Family Tree Chart to Fill in- 6...\u001b[0m\n",
      "\u001b[92m138: Guess: $490.00 Truth: $424.07 Error: $65.93 SLE: 0.02 Item: Baja Designs 45-1003 OnX6 10 inch LED Li...\u001b[0m\n",
      "\u001b[91m139: Guess: $239.66 Truth: $449.99 Error: $210.33 SLE: 0.39 Item: KC HiLiTES 283 The small and mighty KC® ...\u001b[0m\n",
      "\u001b[93m140: Guess: $367.99 Truth: $499.99 Error: $132.00 SLE: 0.09 Item: Yamaha HS8 Studio Subwoofer\u001b[0m\n",
      "\u001b[93m141: Guess: $109.99 Truth: $170.00 Error: $60.01 SLE: 0.19 Item: Elite Cat5e Outdoor Cable. CMX - UV Resi...\u001b[0m\n",
      "\u001b[92m142: Guess: $393.69 Truth: $387.45 Error: $6.24 SLE: 0.00 Item: WindRestrictor - Wind Deflector for Conv...\u001b[0m\n",
      "\u001b[93m143: Guess: $47.22 Truth: $114.07 Error: $66.85 SLE: 0.76 Item: Kluson Replacement Steel Harmonica Tune-...\u001b[0m\n",
      "\u001b[91m144: Guess: $262.47 Truth: $155.50 Error: $106.97 SLE: 0.27 Item: R1 Concepts Front Brakes and Rotors Kit ...\u001b[0m\n",
      "\u001b[92m145: Guess: $128.66 Truth: $164.99 Error: $36.33 SLE: 0.06 Item: Sight Lights Personalized and Customized...\u001b[0m\n",
      "\u001b[92m146: Guess: $65.65 Truth: $50.12 Error: $15.53 SLE: 0.07 Item: P Perri's Leathers Ltd. Guitar Strap (P2...\u001b[0m\n",
      "\u001b[92m147: Guess: $139.98 Truth: $167.95 Error: $27.97 SLE: 0.03 Item: Marshall Emberton Bluetooth Portable Spe...\u001b[0m\n",
      "\u001b[92m148: Guess: $174.99 Truth: $167.99 Error: $7.00 SLE: 0.00 Item: Stampede | Vigilante Hood Protector - Hi...\u001b[0m\n",
      "\u001b[92m149: Guess: $317.50 Truth: $339.99 Error: $22.49 SLE: 0.00 Item: DOOGEE S98 Smartphone, 6.3'' FHD+ Waterd...\u001b[0m\n",
      "\u001b[93m150: Guess: $196.99 Truth: $276.50 Error: $79.51 SLE: 0.11 Item: Quorum International Soho 52\" 5-Blade Ce...\u001b[0m\n",
      "\u001b[92m151: Guess: $127.22 Truth: $112.85 Error: $14.37 SLE: 0.01 Item: Torklift S9000 Basic Spring Load Kit\u001b[0m\n",
      "\u001b[91m152: Guess: $249.99 Truth: $437.99 Error: $188.00 SLE: 0.31 Item: Trick Drums Pro 1-V Detonator Single Bas...\u001b[0m\n",
      "\u001b[91m153: Guess: $559.47 Truth: $299.00 Error: $260.47 SLE: 0.39 Item: TOPENS RK500T Automatic Sliding Gate Ope...\u001b[0m\n",
      "\u001b[91m154: Guess: $47.22 Truth: $195.98 Error: $148.76 SLE: 1.98 Item: Power Stop Front S4832 Pair of High-Temp...\u001b[0m\n",
      "\u001b[92m155: Guess: $139.65 Truth: $117.46 Error: $22.19 SLE: 0.03 Item: Kingston Brass KB3401GL Georgian 4-Inch ...\u001b[0m\n",
      "\u001b[91m156: Guess: $47.99 Truth: $141.25 Error: $93.26 SLE: 1.14 Item: BiggoBlocks 96pc Jumbo Blocks Set | Made...\u001b[0m\n",
      "\u001b[91m157: Guess: $47.99 Truth: $148.38 Error: $100.39 SLE: 1.24 Item: hikotor 4 Way AC Diagnostic Manifold Gau...\u001b[0m\n",
      "\u001b[92m158: Guess: $139.98 Truth: $108.50 Error: $31.48 SLE: 0.06 Item: FatMat Hood-Liner 34\" x 54\" x 3/4\" Thick...\u001b[0m\n",
      "\u001b[92m159: Guess: $393.69 Truth: $419.95 Error: $26.26 SLE: 0.00 Item: Minka-Aire F519L-WH, Concept II LED Whit...\u001b[0m\n",
      "\u001b[92m160: Guess: $147.65 Truth: $170.23 Error: $22.58 SLE: 0.02 Item: Elements of Design ES1495AX New Orleans ...\u001b[0m\n",
      "\u001b[91m161: Guess: $47.99 Truth: $199.99 Error: $152.00 SLE: 1.99 Item: Formuler Z11 Pro Max 4K Android 11 Dual ...\u001b[0m\n",
      "\u001b[92m162: Guess: $8.99 Truth: $4.34 Error: $4.65 SLE: 0.39 Item: Decals Stickers Push - Pull Decor Motorb...\u001b[0m\n",
      "\u001b[93m163: Guess: $579.99 Truth: $468.99 Error: $111.00 SLE: 0.04 Item: Ski-Doo Oxygen Helmet Black XXL (DOT)\u001b[0m\n",
      "\u001b[91m164: Guess: $47.22 Truth: $288.00 Error: $240.78 SLE: 3.21 Item: HP Laserjet Pro 200 color Printer (M251n...\u001b[0m\n",
      "\u001b[91m165: Guess: $594.00 Truth: $289.96 Error: $304.04 SLE: 0.51 Item: Dell Latitude E5440 14\" Laptop, Intel Co...\u001b[0m\n",
      "\u001b[92m166: Guess: $649.00 Truth: $649.00 Error: $0.00 SLE: 0.00 Item: Canon RF100-400mm F5.6-8 is USM\u001b[0m\n",
      "\u001b[93m167: Guess: $66.47 Truth: $129.95 Error: $63.48 SLE: 0.44 Item: BIS-10 / 7313H\u001b[0m\n",
      "\u001b[93m168: Guess: $66.47 Truth: $114.08 Error: $47.61 SLE: 0.29 Item: Springdale FTM10013 Corrall Tiffany Mini...\u001b[0m\n",
      "\u001b[91m169: Guess: $127.22 Truth: $271.99 Error: $144.77 SLE: 0.57 Item: Flex-a-lite 365 Scirocco Radiator Black ...\u001b[0m\n",
      "\u001b[91m170: Guess: $100.69 Truth: $279.99 Error: $179.30 SLE: 1.03 Item: Yamaha Steinberg UR22 MKII Recording Pac...\u001b[0m\n",
      "\u001b[91m171: Guess: $393.69 Truth: $195.00 Error: $198.69 SLE: 0.49 Item: KJB Security DD802 SleuthGear Defender S...\u001b[0m\n",
      "\u001b[92m172: Guess: $34.98 Truth: $47.90 Error: $12.92 SLE: 0.09 Item: SQUISHMALLOW KellyToys - Sanrio® Hello K...\u001b[0m\n",
      "\u001b[92m173: Guess: $22.99 Truth: $13.10 Error: $9.89 SLE: 0.28 Item: Upgraded Lifetime Appliance WB02K10254 A...\u001b[0m\n",
      "\u001b[92m174: Guess: $127.22 Truth: $100.88 Error: $26.34 SLE: 0.05 Item: Golden Age Restoration Tuners for 12-Str...\u001b[0m\n",
      "\u001b[91m175: Guess: $239.99 Truth: $479.99 Error: $240.00 SLE: 0.48 Item: SUNNY SHOWER Corner Shower Enclosure 1/4...\u001b[0m\n",
      "\u001b[92m176: Guess: $154.65 Truth: $125.25 Error: $29.40 SLE: 0.04 Item: ACDelco GM Original Equipment 214-2094 E...\u001b[0m\n",
      "\u001b[93m177: Guess: $22.99 Truth: $95.00 Error: $72.01 SLE: 1.92 Item: ROLANPRO Waterproof Lens Coat for Canon ...\u001b[0m\n",
      "\u001b[91m178: Guess: $139.98 Truth: $279.21 Error: $139.23 SLE: 0.47 Item: Rear Axle Track Assembly Kit for Go Kart...\u001b[0m\n",
      "\u001b[92m179: Guess: $393.69 Truth: $329.99 Error: $63.70 SLE: 0.03 Item: Metal AV Rack with Casters, 21U\u001b[0m\n",
      "\u001b[93m180: Guess: $239.66 Truth: $171.52 Error: $68.14 SLE: 0.11 Item: CarPartsDepot Rear Primered Bumper Cover...\u001b[0m\n",
      "\u001b[91m181: Guess: $66.47 Truth: $389.15 Error: $322.68 SLE: 3.08 Item: Klein Tools 1692-5 Chicago Grip-for Extr...\u001b[0m\n",
      "\u001b[92m182: Guess: $66.47 Truth: $71.49 Error: $5.02 SLE: 0.01 Item: Caswell Science Plating Kit - Flash Copp...\u001b[0m\n",
      "\u001b[93m183: Guess: $174.99 Truth: $272.95 Error: $97.96 SLE: 0.20 Item: Evergreen OK4026/0/0/0 Fits 88-95 Honda ...\u001b[0m\n",
      "\u001b[91m184: Guess: $143.65 Truth: $53.99 Error: $89.66 SLE: 0.94 Item: Nuvo Lighting 60/4905 Adams One Light Wa...\u001b[0m\n",
      "\u001b[93m185: Guess: $579.00 Truth: $799.00 Error: $220.00 SLE: 0.10 Item: WOODBRIDGE B0016-MB-Drain &O Bathtub, Ma...\u001b[0m\n",
      "\u001b[91m186: Guess: $47.22 Truth: $213.20 Error: $165.98 SLE: 2.22 Item: Quality-Built 13969 Premium Quality Alte...\u001b[0m\n",
      "\u001b[91m187: Guess: $154.65 Truth: $332.99 Error: $178.34 SLE: 0.58 Item: AXOR Uno Modern 1-Handle 2-inch Wide Vol...\u001b[0m\n",
      "\u001b[92m188: Guess: $219.65 Truth: $219.00 Error: $0.65 SLE: 0.00 Item: CoolingSky 62MM 4 Row Core Aluminum Radi...\u001b[0m\n",
      "\u001b[92m189: Guess: $164.50 Truth: $163.99 Error: $0.51 SLE: 0.00 Item: A-Premium Disc Brake Caliper Assembly wi...\u001b[0m\n",
      "\u001b[92m190: Guess: $349.00 Truth: $380.00 Error: $31.00 SLE: 0.01 Item: Mustang Motorcycle Seats 76568 Tripper S...\u001b[0m\n",
      "\u001b[91m191: Guess: $390.22 Truth: $249.99 Error: $140.23 SLE: 0.20 Item: Seagate Exos X18 16TB Enterprise HDD - C...\u001b[0m\n",
      "\u001b[92m192: Guess: $219.00 Truth: $230.00 Error: $11.00 SLE: 0.00 Item: Janglebox The Byrds 50th Anniversary Gol...\u001b[0m\n",
      "\u001b[93m193: Guess: $65.69 Truth: $122.82 Error: $57.13 SLE: 0.38 Item: 3/8\" Drive Crowfoot Wrench 2-5/8\" Open E...\u001b[0m\n",
      "\u001b[93m194: Guess: $221.65 Truth: $145.79 Error: $75.86 SLE: 0.17 Item: Trans Globe Imports TG7214 ROB Tradition...\u001b[0m\n",
      "\u001b[92m195: Guess: $139.98 Truth: $129.99 Error: $9.99 SLE: 0.01 Item: Neewer 2-Pack 2.4G LED Video Light with ...\u001b[0m\n",
      "\u001b[92m196: Guess: $29.99 Truth: $7.99 Error: $22.00 SLE: 1.53 Item: QLTYPRI iPhone 7 8 Metal Case, Magnetic ...\u001b[0m\n",
      "\u001b[91m197: Guess: $139.98 Truth: $264.00 Error: $124.02 SLE: 0.40 Item: JORESTECH Pneumatic Carton Box Stapler 1...\u001b[0m\n",
      "\u001b[92m198: Guess: $8.22 Truth: $6.81 Error: $1.41 SLE: 0.03 Item: MyCableMart 3ft 3.5mm Slim Mono TS (2 Co...\u001b[0m\n",
      "\u001b[93m199: Guess: $47.22 Truth: $118.12 Error: $70.90 SLE: 0.82 Item: Pioneer Plastics 094C Clear Acrylic Disp...\u001b[0m\n",
      "\u001b[91m200: Guess: $262.47 Truth: $856.50 Error: $594.03 SLE: 1.39 Item: Brother MFC-L2740DW Laser Multifunction ...\u001b[0m\n",
      "\u001b[92m201: Guess: $66.47 Truth: $31.95 Error: $34.52 SLE: 0.51 Item: Autel Robotics EVO DSLR SLR Camera Shoul...\u001b[0m\n",
      "\u001b[93m202: Guess: $202.65 Truth: $256.41 Error: $53.76 SLE: 0.05 Item: Pair Duralo Front Strut & Spring Assembl...\u001b[0m\n",
      "\u001b[91m203: Guess: $66.98 Truth: $186.48 Error: $119.50 SLE: 1.03 Item: ForeverPRO W10253579 Panel Control for W...\u001b[0m\n",
      "\u001b[92m204: Guess: $164.50 Truth: $138.20 Error: $26.30 SLE: 0.03 Item: Ubiquiti RD-5G30, RocketDish 5GHz AirMax...\u001b[0m\n",
      "\u001b[91m205: Guess: $127.99 Truth: $547.99 Error: $420.00 SLE: 2.10 Item: Displays2go Sit Stand Workstation, Dual ...\u001b[0m\n",
      "\u001b[92m206: Guess: $47.99 Truth: $74.00 Error: $26.01 SLE: 0.18 Item: brfaixla Modern Brushed Nickel Bathroom ...\u001b[0m\n",
      "\u001b[91m207: Guess: $47.22 Truth: $158.03 Error: $110.81 SLE: 1.42 Item: 3M Weld/Spark Deflect Ppr 24Inx150Ft 2\u001b[0m\n",
      "\u001b[92m208: Guess: $118.99 Truth: $85.00 Error: $33.99 SLE: 0.11 Item: Ganeed Vintage K9 Clear Crystal Chandeli...\u001b[0m\n",
      "\u001b[92m209: Guess: $127.22 Truth: $123.52 Error: $3.70 SLE: 0.00 Item: AM Autoparts Headlight Headlamp Driver S...\u001b[0m\n",
      "\u001b[93m210: Guess: $47.99 Truth: $122.86 Error: $74.87 SLE: 0.86 Item: Mini Lathe Machine,24W 20000Rpm Mini Mul...\u001b[0m\n",
      "\u001b[92m211: Guess: $221.65 Truth: $237.99 Error: $16.34 SLE: 0.01 Item: Custom Shop - Chassis Black (Satin) - Ho...\u001b[0m\n",
      "\u001b[92m212: Guess: $49.77 Truth: $63.32 Error: $13.55 SLE: 0.06 Item: Watco 359023 Butcher Block Oil Plus Stai...\u001b[0m\n",
      "\u001b[93m213: Guess: $219.00 Truth: $349.00 Error: $130.00 SLE: 0.22 Item: Enchroma Color Blind Glasses - Modoc - C...\u001b[0m\n",
      "\u001b[91m214: Guess: $47.22 Truth: $153.16 Error: $105.94 SLE: 1.35 Item: MECHANICAL BELT TENS\u001b[0m\n",
      "\u001b[93m215: Guess: $174.00 Truth: $250.14 Error: $76.14 SLE: 0.13 Item: Mountain Plumbing MT666-3CFWD3B Perfect ...\u001b[0m\n",
      "\u001b[92m216: Guess: $29.99 Truth: $11.95 Error: $18.04 SLE: 0.76 Item: 2-Pack SOLTECH 8 Channel CCTV Security C...\u001b[0m\n",
      "\u001b[91m217: Guess: $139.98 Truth: $45.99 Error: $93.99 SLE: 1.21 Item: Reletech Portable SSD USB 3.2 Gen2 Type-...\u001b[0m\n",
      "\u001b[91m218: Guess: $196.43 Truth: $370.06 Error: $173.63 SLE: 0.40 Item: R1 Concepts Front Rear Brakes and Rotors...\u001b[0m\n",
      "\u001b[92m219: Guess: $174.99 Truth: $139.61 Error: $35.38 SLE: 0.05 Item: EPI Severe Duty CVT Belt for Kawasaki 75...\u001b[0m\n",
      "\u001b[91m220: Guess: $219.98 Truth: $415.93 Error: $195.95 SLE: 0.40 Item: OE Wheels LLC TY11-20080-5150-60C Chrome...\u001b[0m\n",
      "\u001b[93m221: Guess: $453.65 Truth: $589.00 Error: $135.35 SLE: 0.07 Item: Honda GX160 5.5HP General Purpose Engine...\u001b[0m\n",
      "\u001b[91m222: Guess: $47.22 Truth: $519.99 Error: $472.77 SLE: 5.66 Item: Complete SC760-16 16 Gauge, 1/2 Inch C R...\u001b[0m\n",
      "\u001b[92m223: Guess: $219.98 Truth: $193.08 Error: $26.90 SLE: 0.02 Item: Universal Remote Control MX-450 Custom P...\u001b[0m\n",
      "\u001b[92m224: Guess: $139.00 Truth: $145.00 Error: $6.00 SLE: 0.00 Item: Rode VideoMic Vlogger Kit for USB-C Devi...\u001b[0m\n",
      "\u001b[91m225: Guess: $179.99 Truth: $99.88 Error: $80.11 SLE: 0.34 Item: iHome iW1 AirPlay Wireless Stereo Speake...\u001b[0m\n",
      "\u001b[93m226: Guess: $221.65 Truth: $314.95 Error: $93.30 SLE: 0.12 Item: Pelican Air 1607 Case no Foam (Black)\u001b[0m\n",
      "\u001b[92m227: Guess: $76.99 Truth: $43.99 Error: $33.00 SLE: 0.30 Item: Pro-Line Racing 3238-62 Volkswagen Baja ...\u001b[0m\n",
      "\u001b[92m228: Guess: $221.65 Truth: $195.95 Error: $25.70 SLE: 0.02 Item: Scott Drake 6A582-MAV Aluminum Valve Cov...\u001b[0m\n",
      "\u001b[91m229: Guess: $47.95 Truth: $320.00 Error: $272.05 SLE: 3.54 Item: Anti-Theft Catalytic Converter Protectio...\u001b[0m\n",
      "\u001b[93m230: Guess: $594.00 Truth: $880.00 Error: $286.00 SLE: 0.15 Item: Sata - 5000B Hvlp Standard Gun 1.3 W/Rps...\u001b[0m\n",
      "\u001b[93m231: Guess: $179.99 Truth: $125.99 Error: $54.00 SLE: 0.13 Item: Skilcraft Compatible Toner Cartridge Rep...\u001b[0m\n",
      "\u001b[91m232: Guess: $367.99 Truth: $697.71 Error: $329.72 SLE: 0.41 Item: A/C KIT UNIVERSAL UNDER DASH EVAPORATOR ...\u001b[0m\n",
      "\u001b[91m233: Guess: $66.47 Truth: $289.00 Error: $222.53 SLE: 2.13 Item: Freud DS0914BF Diablo Bi-Metal Demon 9-I...\u001b[0m\n",
      "\u001b[92m234: Guess: $154.65 Truth: $131.23 Error: $23.42 SLE: 0.03 Item: ACDelco Gold ACK060448K1 Automatic Belt ...\u001b[0m\n",
      "\u001b[93m235: Guess: $147.65 Truth: $242.98 Error: $95.33 SLE: 0.25 Item: Southwire 28893602 Nonmetallic With Grou...\u001b[0m\n",
      "\u001b[92m236: Guess: $47.99 Truth: $75.99 Error: $28.00 SLE: 0.20 Item: Anker Soundcore Motion Boom Outdoor Spea...\u001b[0m\n",
      "\u001b[91m237: Guess: $110.47 Truth: $330.00 Error: $219.53 SLE: 1.18 Item: Porsche Motorsport Team Softshell Jacket...\u001b[0m\n",
      "\u001b[92m238: Guess: $47.22 Truth: $77.08 Error: $29.86 SLE: 0.23 Item: Norton 662611-49557 Dry Ice 2-3/4\" x 45 ...\u001b[0m\n",
      "\u001b[93m239: Guess: $154.65 Truth: $93.99 Error: $60.66 SLE: 0.24 Item: SHOWER PAN LINER 6X8 Grey Made in USA\u001b[0m\n",
      "\u001b[93m240: Guess: $143.65 Truth: $85.99 Error: $57.66 SLE: 0.26 Item: orealtrend Black Floor Mats Liners Repla...\u001b[0m\n",
      "\u001b[93m241: Guess: $277.65 Truth: $215.91 Error: $61.74 SLE: 0.06 Item: Skyjacker C180S 8\" Softride Leaf Spring\u001b[0m\n",
      "\u001b[91m242: Guess: $47.22 Truth: $381.92 Error: $334.70 SLE: 4.29 Item: Hutchins - Sander Random Orbital Action ...\u001b[0m\n",
      "\u001b[92m243: Guess: $127.99 Truth: $113.33 Error: $14.66 SLE: 0.01 Item: Grandview Gallery 21\" Off-White Ceramic ...\u001b[0m\n",
      "\u001b[91m244: Guess: $127.22 Truth: $300.99 Error: $173.77 SLE: 0.73 Item: Piaa 22-02772 LP270 Yellow 2.75\" LED Ion...\u001b[0m\n",
      "\u001b[92m245: Guess: $519.00 Truth: $479.99 Error: $39.01 SLE: 0.01 Item: Traxxas 90076-4-SRED Hoss 4X4 VXL: 1/10 ...\u001b[0m\n",
      "\u001b[93m246: Guess: $219.65 Truth: $359.49 Error: $139.84 SLE: 0.24 Item: MyParts Rear Driveshaft Prop Shaft Assem...\u001b[0m\n",
      "\u001b[92m247: Guess: $33.65 Truth: $2.26 Error: $31.39 SLE: 5.59 Item: CRL AGC25 Chrysler/GM Plastic Rear View ...\u001b[0m\n",
      "\u001b[92m248: Guess: $154.65 Truth: $185.89 Error: $31.24 SLE: 0.03 Item: Speakman SC-3002-8-LD-E Commander Goosen...\u001b[0m\n",
      "\u001b[92m249: Guess: $127.22 Truth: $141.99 Error: $14.77 SLE: 0.01 Item: AT&T 974 Small Business System Speakerph...\u001b[0m\n",
      "\u001b[93m250: Guess: $726.65 Truth: $578.95 Error: $147.70 SLE: 0.05 Item: Hooker 98-02 Cam Lsi Cat-Back Exhaust Sy...\u001b[0m\n"
     ]
    },
    {
     "data": {
      "image/png": "[encoded data removed]",
      "text/plain": [
       "<Figure size 1200x800 with 1 Axes>"
      ]
     },
     "metadata": {},
     "output_type": "display_data"
    }
   ],
   "source": [
    "Tester.test(gpt_fine_tuned, test)"
   ]
  },
  {
   "cell_type": "code",
   "execution_count": null,
   "id": "c9002b7b-7fc0-4b56-8e44-863ff4a04962",
   "metadata": {},
   "outputs": [],
   "source": []
  }
 ],
 "metadata": {
  "kernelspec": {
   "display_name": "Python 3 (ipykernel)",
   "language": "python",
   "name": "python3"
  },
  "language_info": {
   "codemirror_mode": {
    "name": "ipython",
    "version": 3
   },
   "file_extension": ".py",
   "mimetype": "text/x-python",
   "name": "python",
   "nbconvert_exporter": "python",
   "pygments_lexer": "ipython3",
   "version": "3.11.11"
  }
 },
 "nbformat": 4,
 "nbformat_minor": 5
}
