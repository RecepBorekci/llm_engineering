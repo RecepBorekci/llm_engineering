{
 "cells": [
  {
   "cell_type": "markdown",
   "id": "a98030af-fcd1-4d63-a36e-38ba053498fa",
   "metadata": {},
   "source": [
    "# A full business solution\n",
    "\n",
    "## Now we will take our project from Day 1 to the next level\n",
    "\n",
    "### BUSINESS CHALLENGE:\n",
    "\n",
    "Create a product that builds a Brochure for a company to be used for prospective clients, investors and potential recruits.\n",
    "\n",
    "We will be provided a company name and their primary website.\n",
    "\n",
    "See the end of this notebook for examples of real-world business applications.\n",
    "\n",
    "And remember: I'm always available if you have problems or ideas! Please do reach out."
   ]
  },
  {
   "cell_type": "code",
   "execution_count": 1,
   "id": "d5b08506-dc8b-4443-9201-5f1848161363",
   "metadata": {},
   "outputs": [],
   "source": [
    "# imports\n",
    "# If these fail, please check you're running from an 'activated' environment with (llms) in the command prompt\n",
    "\n",
    "import os\n",
    "import requests\n",
    "import json\n",
    "from typing import List\n",
    "from dotenv import load_dotenv\n",
    "from bs4 import BeautifulSoup\n",
    "from IPython.display import Markdown, display, update_display\n",
    "from openai import OpenAI"
   ]
  },
  {
   "cell_type": "code",
   "execution_count": 2,
   "id": "fc5d8880-f2ee-4c06-af16-ecbc0262af61",
   "metadata": {},
   "outputs": [
    {
     "name": "stdout",
     "output_type": "stream",
     "text": [
      "API key looks good so far\n"
     ]
    }
   ],
   "source": [
    "# Initialize and constants\n",
    "\n",
    "load_dotenv(override=True)\n",
    "api_key = os.getenv('OPENAI_API_KEY')\n",
    "\n",
    "if api_key and api_key.startswith('sk-proj-') and len(api_key)>10:\n",
    "    print(\"API key looks good so far\")\n",
    "else:\n",
    "    print(\"There might be a problem with your API key? Please visit the troubleshooting notebook!\")\n",
    "    \n",
    "MODEL = 'gpt-4o-mini'\n",
    "openai = OpenAI()"
   ]
  },
  {
   "cell_type": "code",
   "execution_count": 3,
   "id": "106dd65e-90af-4ca8-86b6-23a41840645b",
   "metadata": {},
   "outputs": [],
   "source": [
    "# A class to represent a Webpage\n",
    "\n",
    "# Some websites need you to use proper headers when fetching them:\n",
    "headers = {\n",
    " \"User-Agent\": \"Mozilla/5.0 (Windows NT 10.0; Win64; x64) AppleWebKit/537.36 (KHTML, like Gecko) Chrome/117.0.0.0 Safari/537.36\"\n",
    "}\n",
    "\n",
    "class Website:\n",
    "    \"\"\"\n",
    "    A utility class to represent a Website that we have scraped, now with links\n",
    "    \"\"\"\n",
    "\n",
    "    def __init__(self, url):\n",
    "        self.url = url\n",
    "        response = requests.get(url, headers=headers)\n",
    "        self.body = response.content\n",
    "        soup = BeautifulSoup(self.body, 'html.parser')\n",
    "        self.title = soup.title.string if soup.title else \"No title found\"\n",
    "        if soup.body:\n",
    "            for irrelevant in soup.body([\"script\", \"style\", \"img\", \"input\"]):\n",
    "                irrelevant.decompose()\n",
    "            self.text = soup.body.get_text(separator=\"\\n\", strip=True)\n",
    "        else:\n",
    "            self.text = \"\"\n",
    "        links = [link.get('href') for link in soup.find_all('a')]\n",
    "        self.links = [link for link in links if link]\n",
    "\n",
    "    def get_contents(self):\n",
    "        return f\"Webpage Title:\\n{self.title}\\nWebpage Contents:\\n{self.text}\\n\\n\""
   ]
  },
  {
   "cell_type": "code",
   "execution_count": 4,
   "id": "e30d8128-933b-44cc-81c8-ab4c9d86589a",
   "metadata": {},
   "outputs": [
    {
     "data": {
      "text/plain": [
       "['https://edwarddonner.com/',\n",
       " 'https://edwarddonner.com/outsmart/',\n",
       " 'https://edwarddonner.com/about-me-and-about-nebula/',\n",
       " 'https://edwarddonner.com/posts/',\n",
       " 'https://edwarddonner.com/',\n",
       " 'https://news.ycombinator.com',\n",
       " 'https://nebula.io/?utm_source=ed&utm_medium=referral',\n",
       " 'https://www.prnewswire.com/news-releases/wynden-stark-group-acquires-nyc-venture-backed-tech-startup-untapt-301269512.html',\n",
       " 'https://patents.google.com/patent/US20210049536A1/',\n",
       " 'https://www.linkedin.com/in/eddonner/',\n",
       " 'https://edwarddonner.com/2025/01/23/llm-workshop-hands-on-with-agents-resources/',\n",
       " 'https://edwarddonner.com/2025/01/23/llm-workshop-hands-on-with-agents-resources/',\n",
       " 'https://edwarddonner.com/2024/12/21/llm-resources-superdatascience/',\n",
       " 'https://edwarddonner.com/2024/12/21/llm-resources-superdatascience/',\n",
       " 'https://edwarddonner.com/2024/11/13/llm-engineering-resources/',\n",
       " 'https://edwarddonner.com/2024/11/13/llm-engineering-resources/',\n",
       " 'https://edwarddonner.com/2024/10/16/from-software-engineer-to-ai-data-scientist-resources/',\n",
       " 'https://edwarddonner.com/2024/10/16/from-software-engineer-to-ai-data-scientist-resources/',\n",
       " 'https://edwarddonner.com/',\n",
       " 'https://edwarddonner.com/outsmart/',\n",
       " 'https://edwarddonner.com/about-me-and-about-nebula/',\n",
       " 'https://edwarddonner.com/posts/',\n",
       " 'mailto:hello@mygroovydomain.com',\n",
       " 'https://www.linkedin.com/in/eddonner/',\n",
       " 'https://twitter.com/edwarddonner',\n",
       " 'https://www.facebook.com/edward.donner.52']"
      ]
     },
     "execution_count": 4,
     "metadata": {},
     "output_type": "execute_result"
    }
   ],
   "source": [
    "ed = Website(\"https://edwarddonner.com\")\n",
    "ed.links"
   ]
  },
  {
   "cell_type": "markdown",
   "id": "1771af9c-717a-4fca-bbbe-8a95893312c3",
   "metadata": {},
   "source": [
    "## First step: Have GPT-4o-mini figure out which links are relevant\n",
    "\n",
    "### Use a call to gpt-4o-mini to read the links on a webpage, and respond in structured JSON.  \n",
    "It should decide which links are relevant, and replace relative links such as \"/about\" with \"https://company.com/about\".  \n",
    "We will use \"one shot prompting\" in which we provide an example of how it should respond in the prompt.\n",
    "\n",
    "This is an excellent use case for an LLM, because it requires nuanced understanding. Imagine trying to code this without LLMs by parsing and analyzing the webpage - it would be very hard!\n",
    "\n",
    "Sidenote: there is a more advanced technique called \"Structured Outputs\" in which we require the model to respond according to a spec. We cover this technique in Week 8 during our autonomous Agentic AI project."
   ]
  },
  {
   "cell_type": "code",
   "execution_count": 11,
   "id": "6957b079-0d96-45f7-a26a-3487510e9b35",
   "metadata": {},
   "outputs": [],
   "source": [
    "link_system_prompt = (\n",
    "    \"You are provided with a list of links found on a webpage. \"\n",
    "    \"You will decide which links are most relevant to include in a brochure about the company, \"\n",
    "    \"such as links to an About page, Careers/Jobs pages, or other key pages. \"\n",
    "    \"Do not include links to Terms of Service, Privacy Policy, or email addresses. \"\n",
    "    \"Respond in JSON format as shown in these examples:\\n\\n\"\n",
    ")\n",
    "\n",
    "link_system_prompt += \"\"\"\n",
    "Example 1:\n",
    "Input:\n",
    "Here is the list of links on the website of https://edwarddonner.com. Decide which links are relevant for a brochure about the company:\n",
    "Links:\n",
    "https://edwarddonner.com/\n",
    "https://edwarddonner.com/outsmart/\n",
    "https://edwarddonner.com/about-me-and-about-nebula/\n",
    "https://edwarddonner.com/posts/\n",
    "https://news.ycombinator.com\n",
    "https://nebula.io/?utm_source=ed&utm_medium=referral\n",
    "https://www.linkedin.com/in/eddonner/\n",
    "https://edwarddonner.com/2025/01/23/llm-workshop-hands-on-with-agents-resources/\n",
    "\n",
    "Output:\n",
    "{\n",
    "    \"links\": [\n",
    "        {\"type\": \"about page\", \"url\": \"https://edwarddonner.com/about-me-and-about-nebula/\"},\n",
    "        {\"type\": \"home page\", \"url\": \"https://edwarddonner.com/\"}\n",
    "    ]\n",
    "}\n",
    "\n",
    "Example 2:\n",
    "Input:\n",
    "Here is the list of links on the website of https://huggingface.co. Decide which links are relevant for a brochure about the company:\n",
    "Links:\n",
    "'/',\n",
    "'/models',\n",
    "'/datasets',\n",
    "'/docs',\n",
    "'/docs/transformers',\n",
    "'/docs/diffusers',\n",
    "'/pricing',\n",
    "'/enterprise',\n",
    "'/terms-of-service',\n",
    "'/huggingface',\n",
    "'https://apply.workable.com/huggingface/',\n",
    "'/privacy',\n",
    "'/blog',\n",
    "'mailto:press@huggingface.co',\n",
    "'https://status.huggingface.co/',\n",
    "'https://github.com/huggingface',\n",
    "\n",
    "Output:\n",
    "{\n",
    "    \"links\": [\n",
    "        {'type': 'about page', 'url': 'https://huggingface.co/huggingface'},\n",
    "        {'type': 'careers page', 'url': 'https://apply.workable.com/huggingface/'},\n",
    "        {'type': 'enterprise page', 'url': 'https://huggingface.co/enterprise'},\n",
    "        {'type': 'pricing page', 'url': 'https://huggingface.co/pricing'},\n",
    "        {'type': 'blog page', 'url': 'https://huggingface.co/blog'}\n",
    "    ]\n",
    "}\n",
    "\"\"\""
   ]
  },
  {
   "cell_type": "code",
   "execution_count": 12,
   "id": "b97e4068-97ed-4120-beae-c42105e4d59a",
   "metadata": {},
   "outputs": [
    {
     "name": "stdout",
     "output_type": "stream",
     "text": [
      "You are provided with a list of links found on a webpage. You will decide which links are most relevant to include in a brochure about the company, such as links to an About page, Careers/Jobs pages, or other key pages. Do not include links to Terms of Service, Privacy Policy, or email addresses. Respond in JSON format as shown in these examples:\n",
      "\n",
      "\n",
      "Example 1:\n",
      "Input:\n",
      "Here is the list of links on the website of https://edwarddonner.com. Decide which links are relevant for a brochure about the company:\n",
      "Links:\n",
      "https://edwarddonner.com/\n",
      "https://edwarddonner.com/outsmart/\n",
      "https://edwarddonner.com/about-me-and-about-nebula/\n",
      "https://edwarddonner.com/posts/\n",
      "https://news.ycombinator.com\n",
      "https://nebula.io/?utm_source=ed&utm_medium=referral\n",
      "https://www.linkedin.com/in/eddonner/\n",
      "https://edwarddonner.com/2025/01/23/llm-workshop-hands-on-with-agents-resources/\n",
      "\n",
      "Output:\n",
      "{\n",
      "    \"links\": [\n",
      "        {\"type\": \"about page\", \"url\": \"https://edwarddonner.com/about-me-and-about-nebula/\"},\n",
      "        {\"type\": \"home page\", \"url\": \"https://edwarddonner.com/\"}\n",
      "    ]\n",
      "}\n",
      "\n",
      "Example 2:\n",
      "Input:\n",
      "Here is the list of links on the website of https://huggingface.co. Decide which links are relevant for a brochure about the company:\n",
      "Links:\n",
      "'/',\n",
      "'/models',\n",
      "'/datasets',\n",
      "'/docs',\n",
      "'/docs/transformers',\n",
      "'/docs/diffusers',\n",
      "'/pricing',\n",
      "'/enterprise',\n",
      "'/terms-of-service',\n",
      "'/huggingface',\n",
      "'https://apply.workable.com/huggingface/',\n",
      "'/privacy',\n",
      "'/blog',\n",
      "'mailto:press@huggingface.co',\n",
      "'https://status.huggingface.co/',\n",
      "'https://github.com/huggingface',\n",
      "\n",
      "Output:\n",
      "{\n",
      "    \"links\": [\n",
      "        {'type': 'about page', 'url': 'https://huggingface.co/huggingface'},\n",
      "        {'type': 'careers page', 'url': 'https://apply.workable.com/huggingface/'},\n",
      "        {'type': 'enterprise page', 'url': 'https://huggingface.co/enterprise'},\n",
      "        {'type': 'pricing page', 'url': 'https://huggingface.co/pricing'},\n",
      "        {'type': 'blog page', 'url': 'https://huggingface.co/blog'}\n",
      "    ]\n",
      "}\n",
      "\n"
     ]
    }
   ],
   "source": [
    "print(link_system_prompt)"
   ]
  },
  {
   "cell_type": "code",
   "execution_count": 13,
   "id": "8e1f601b-2eaf-499d-b6b8-c99050c9d6b3",
   "metadata": {},
   "outputs": [],
   "source": [
    "def get_links_user_prompt(website):\n",
    "    user_prompt = f\"Here is the list of links on the website of {website.url} - \"\n",
    "    user_prompt += \"please decide which of these are relevant web links for a brochure about the company, respond with the full https URL in JSON format. \\\n",
    "Do not include Terms of Service, Privacy, email links.\\n\"\n",
    "    user_prompt += \"Links (some might be relative links):\\n\"\n",
    "    user_prompt += \"\\n\".join(website.links)\n",
    "    return user_prompt"
   ]
  },
  {
   "cell_type": "code",
   "execution_count": 14,
   "id": "6bcbfa78-6395-4685-b92c-22d592050fd7",
   "metadata": {},
   "outputs": [
    {
     "name": "stdout",
     "output_type": "stream",
     "text": [
      "Here is the list of links on the website of https://edwarddonner.com - please decide which of these are relevant web links for a brochure about the company, respond with the full https URL in JSON format. Do not include Terms of Service, Privacy, email links.\n",
      "Links (some might be relative links):\n",
      "https://edwarddonner.com/\n",
      "https://edwarddonner.com/outsmart/\n",
      "https://edwarddonner.com/about-me-and-about-nebula/\n",
      "https://edwarddonner.com/posts/\n",
      "https://edwarddonner.com/\n",
      "https://news.ycombinator.com\n",
      "https://nebula.io/?utm_source=ed&utm_medium=referral\n",
      "https://www.prnewswire.com/news-releases/wynden-stark-group-acquires-nyc-venture-backed-tech-startup-untapt-301269512.html\n",
      "https://patents.google.com/patent/US20210049536A1/\n",
      "https://www.linkedin.com/in/eddonner/\n",
      "https://edwarddonner.com/2025/01/23/llm-workshop-hands-on-with-agents-resources/\n",
      "https://edwarddonner.com/2025/01/23/llm-workshop-hands-on-with-agents-resources/\n",
      "https://edwarddonner.com/2024/12/21/llm-resources-superdatascience/\n",
      "https://edwarddonner.com/2024/12/21/llm-resources-superdatascience/\n",
      "https://edwarddonner.com/2024/11/13/llm-engineering-resources/\n",
      "https://edwarddonner.com/2024/11/13/llm-engineering-resources/\n",
      "https://edwarddonner.com/2024/10/16/from-software-engineer-to-ai-data-scientist-resources/\n",
      "https://edwarddonner.com/2024/10/16/from-software-engineer-to-ai-data-scientist-resources/\n",
      "https://edwarddonner.com/\n",
      "https://edwarddonner.com/outsmart/\n",
      "https://edwarddonner.com/about-me-and-about-nebula/\n",
      "https://edwarddonner.com/posts/\n",
      "mailto:hello@mygroovydomain.com\n",
      "https://www.linkedin.com/in/eddonner/\n",
      "https://twitter.com/edwarddonner\n",
      "https://www.facebook.com/edward.donner.52\n"
     ]
    }
   ],
   "source": [
    "print(get_links_user_prompt(ed))"
   ]
  },
  {
   "cell_type": "code",
   "execution_count": 15,
   "id": "a29aca19-ca13-471c-a4b4-5abbfa813f69",
   "metadata": {},
   "outputs": [],
   "source": [
    "def get_links(url):\n",
    "    website = Website(url)\n",
    "    response = openai.chat.completions.create(\n",
    "        model=MODEL,\n",
    "        messages=[\n",
    "            {\"role\": \"system\", \"content\": link_system_prompt},\n",
    "            {\"role\": \"user\", \"content\": get_links_user_prompt(website)}\n",
    "      ],\n",
    "        response_format={\"type\": \"json_object\"}\n",
    "    )\n",
    "    result = response.choices[0].message.content\n",
    "    return json.loads(result)"
   ]
  },
  {
   "cell_type": "code",
   "execution_count": 16,
   "id": "74a827a0-2782-4ae5-b210-4a242a8b4cc2",
   "metadata": {},
   "outputs": [
    {
     "data": {
      "text/plain": [
       "['/',\n",
       " '/models',\n",
       " '/datasets',\n",
       " '/spaces',\n",
       " '/posts',\n",
       " '/docs',\n",
       " '/enterprise',\n",
       " '/pricing',\n",
       " '/login',\n",
       " '/join',\n",
       " '/deepseek-ai/DeepSeek-R1',\n",
       " '/hexgrad/Kokoro-82M',\n",
       " '/deepseek-ai/DeepSeek-R1-Distill-Qwen-32B',\n",
       " '/deepseek-ai/DeepSeek-R1-Zero',\n",
       " '/deepseek-ai/DeepSeek-R1-Distill-Qwen-1.5B',\n",
       " '/models',\n",
       " '/spaces/hexgrad/Kokoro-TTS',\n",
       " '/spaces/tencent/Hunyuan3D-2',\n",
       " '/spaces/lllyasviel/iclight-v2',\n",
       " '/spaces/webml-community/deepseek-r1-webgpu',\n",
       " '/spaces/JeffreyXiang/TRELLIS',\n",
       " '/spaces',\n",
       " '/datasets/fka/awesome-chatgpt-prompts',\n",
       " '/datasets/cais/hle',\n",
       " '/datasets/bespokelabs/Bespoke-Stratos-17k',\n",
       " '/datasets/HumanLLMs/Human-Like-DPO-Dataset',\n",
       " '/datasets/yale-nlp/MMVU',\n",
       " '/datasets',\n",
       " '/join',\n",
       " '/pricing#endpoints',\n",
       " '/pricing#spaces',\n",
       " '/pricing',\n",
       " '/enterprise',\n",
       " '/enterprise',\n",
       " '/enterprise',\n",
       " '/enterprise',\n",
       " '/enterprise',\n",
       " '/enterprise',\n",
       " '/enterprise',\n",
       " '/allenai',\n",
       " '/facebook',\n",
       " '/amazon',\n",
       " '/google',\n",
       " '/Intel',\n",
       " '/microsoft',\n",
       " '/grammarly',\n",
       " '/Writer',\n",
       " '/docs/transformers',\n",
       " '/docs/diffusers',\n",
       " '/docs/safetensors',\n",
       " '/docs/huggingface_hub',\n",
       " '/docs/tokenizers',\n",
       " '/docs/peft',\n",
       " '/docs/transformers.js',\n",
       " '/docs/timm',\n",
       " '/docs/trl',\n",
       " '/docs/datasets',\n",
       " '/docs/text-generation-inference',\n",
       " '/docs/accelerate',\n",
       " '/models',\n",
       " '/datasets',\n",
       " '/spaces',\n",
       " '/tasks',\n",
       " 'https://ui.endpoints.huggingface.co',\n",
       " '/chat',\n",
       " '/huggingface',\n",
       " '/brand',\n",
       " '/terms-of-service',\n",
       " '/privacy',\n",
       " 'https://apply.workable.com/huggingface/',\n",
       " 'mailto:press@huggingface.co',\n",
       " '/learn',\n",
       " '/docs',\n",
       " '/blog',\n",
       " 'https://discuss.huggingface.co',\n",
       " 'https://status.huggingface.co/',\n",
       " 'https://github.com/huggingface',\n",
       " 'https://twitter.com/huggingface',\n",
       " 'https://www.linkedin.com/company/huggingface/',\n",
       " '/join/discord',\n",
       " 'https://www.zhihu.com/org/huggingface',\n",
       " 'https://huggingface.co/datasets/huggingface/documentation-images/resolve/main/blog/chinese-language-blog/wechat.jpg']"
      ]
     },
     "execution_count": 16,
     "metadata": {},
     "output_type": "execute_result"
    }
   ],
   "source": [
    "# Anthropic has made their site harder to scrape, so I'm using HuggingFace..\n",
    "\n",
    "huggingface = Website(\"https://huggingface.co\")\n",
    "huggingface.links"
   ]
  },
  {
   "cell_type": "code",
   "execution_count": 17,
   "id": "96c738d9-f97d-4fe6-ac20-6fc4d4e03915",
   "metadata": {},
   "outputs": [
    {
     "data": {
      "text/plain": [
       "{'links': [{'type': 'home page', 'url': 'https://edwarddonner.com/'},\n",
       "  {'type': 'about page',\n",
       "   'url': 'https://edwarddonner.com/about-me-and-about-nebula/'},\n",
       "  {'type': 'blog page', 'url': 'https://edwarddonner.com/posts/'},\n",
       "  {'type': 'twitter page', 'url': 'https://twitter.com/edwarddonner'},\n",
       "  {'type': 'facebook page',\n",
       "   'url': 'https://www.facebook.com/edward.donner.52'}]}"
      ]
     },
     "execution_count": 17,
     "metadata": {},
     "output_type": "execute_result"
    }
   ],
   "source": [
    "get_links(\"https://edwarddonner.com\")"
   ]
  },
  {
   "cell_type": "code",
   "execution_count": 18,
   "id": "d3d583e2-dcc4-40cc-9b28-1e8dbf402924",
   "metadata": {},
   "outputs": [
    {
     "data": {
      "text/plain": [
       "{'links': [{'type': 'home page', 'url': 'https://huggingface.co/'},\n",
       "  {'type': 'enterprise page', 'url': 'https://huggingface.co/enterprise'},\n",
       "  {'type': 'pricing page', 'url': 'https://huggingface.co/pricing'},\n",
       "  {'type': 'blog page', 'url': 'https://huggingface.co/blog'},\n",
       "  {'type': 'about page', 'url': 'https://huggingface.co/huggingface'},\n",
       "  {'type': 'careers page', 'url': 'https://apply.workable.com/huggingface/'},\n",
       "  {'type': 'community page', 'url': 'https://discuss.huggingface.co'},\n",
       "  {'type': 'GitHub page', 'url': 'https://github.com/huggingface'},\n",
       "  {'type': 'LinkedIn page',\n",
       "   'url': 'https://www.linkedin.com/company/huggingface/'}]}"
      ]
     },
     "execution_count": 18,
     "metadata": {},
     "output_type": "execute_result"
    }
   ],
   "source": [
    "get_links(\"https://huggingface.co\")"
   ]
  },
  {
   "cell_type": "markdown",
   "id": "0d74128e-dfb6-47ec-9549-288b621c838c",
   "metadata": {},
   "source": [
    "## Second step: make the brochure!\n",
    "\n",
    "Assemble all the details into another prompt to GPT4-o"
   ]
  },
  {
   "cell_type": "code",
   "execution_count": 19,
   "id": "85a5b6e2-e7ef-44a9-bc7f-59ede71037b5",
   "metadata": {},
   "outputs": [],
   "source": [
    "def get_all_details(url):\n",
    "    result = \"Landing page:\\n\"\n",
    "    result += Website(url).get_contents()\n",
    "    links = get_links(url)\n",
    "    print(\"Found links:\", links)\n",
    "    for link in links[\"links\"]:\n",
    "        result += f\"\\n\\n{link['type']}\\n\"\n",
    "        result += Website(link[\"url\"]).get_contents()\n",
    "    return result"
   ]
  },
  {
   "cell_type": "code",
   "execution_count": null,
   "id": "5099bd14-076d-4745-baf3-dac08d8e5ab2",
   "metadata": {},
   "outputs": [],
   "source": [
    "print(get_all_details(\"https://huggingface.co\"))"
   ]
  },
  {
   "cell_type": "code",
   "execution_count": 29,
   "id": "9b863a55-f86c-4e3f-8a79-94e24c1a8cf2",
   "metadata": {},
   "outputs": [],
   "source": [
    "# system_prompt = \"You are an assistant that analyzes the contents of several relevant pages from a company website \\\n",
    "# and creates a short brochure about the company for prospective customers, investors and recruits. Respond in markdown.\\\n",
    "# Include details of company culture, customers and careers/jobs if you have the information.\"\n",
    "\n",
    "# Or uncomment the lines below for a more humorous brochure - this demonstrates how easy it is to incorporate 'tone':\n",
    "\n",
    "system_prompt = \"You are an assistant that analyzes the contents of several relevant pages from a company website \\\n",
    "and creates a short humorous, entertaining, jokey brochure about the company for prospective customers, investors and recruits. Respond in markdown.\\\n",
    "Include details of company culture, customers and careers/jobs if you have the information.\"\n"
   ]
  },
  {
   "cell_type": "code",
   "execution_count": 22,
   "id": "6ab83d92-d36b-4ce0-8bcc-5bb4c2f8ff23",
   "metadata": {},
   "outputs": [],
   "source": [
    "def get_brochure_user_prompt(company_name, url):\n",
    "    user_prompt = f\"You are looking at a company called: {company_name}\\n\"\n",
    "    user_prompt += f\"Here are the contents of its landing page and other relevant pages; use this information to build a short brochure of the company in markdown.\\n\"\n",
    "    user_prompt += get_all_details(url)\n",
    "    user_prompt = user_prompt[:5_000] # Truncate if more than 5,000 characters\n",
    "    return user_prompt"
   ]
  },
  {
   "cell_type": "code",
   "execution_count": 23,
   "id": "cd909e0b-1312-4ce2-a553-821e795d7572",
   "metadata": {},
   "outputs": [
    {
     "name": "stdout",
     "output_type": "stream",
     "text": [
      "Found links: {'links': [{'type': 'home page', 'url': 'https://huggingface.co/'}, {'type': 'models page', 'url': 'https://huggingface.co/models'}, {'type': 'datasets page', 'url': 'https://huggingface.co/datasets'}, {'type': 'spaces page', 'url': 'https://huggingface.co/spaces'}, {'type': 'enterprise page', 'url': 'https://huggingface.co/enterprise'}, {'type': 'pricing page', 'url': 'https://huggingface.co/pricing'}, {'type': 'careers page', 'url': 'https://apply.workable.com/huggingface/'}, {'type': 'about page', 'url': 'https://huggingface.co/huggingface'}, {'type': 'blog page', 'url': 'https://huggingface.co/blog'}, {'type': 'discussion forum', 'url': 'https://discuss.huggingface.co'}, {'type': 'GitHub page', 'url': 'https://github.com/huggingface'}, {'type': 'LinkedIn page', 'url': 'https://www.linkedin.com/company/huggingface/'}, {'type': 'Twitter page', 'url': 'https://twitter.com/huggingface'}]}\n"
     ]
    },
    {
     "data": {
      "text/plain": [
       "'You are looking at a company called: HuggingFace\\nHere are the contents of its landing page and other relevant pages; use this information to build a short brochure of the company in markdown.\\nLanding page:\\nWebpage Title:\\nHugging Face – The AI community building the future.\\nWebpage Contents:\\nHugging Face\\nModels\\nDatasets\\nSpaces\\nPosts\\nDocs\\nEnterprise\\nPricing\\nLog In\\nSign Up\\nThe AI community building the future.\\nThe platform where the machine learning community collaborates on models, datasets, and applications.\\nTrending on\\nthis week\\nModels\\ndeepseek-ai/DeepSeek-R1\\nUpdated\\n2 days ago\\n•\\n109k\\n•\\n2.49k\\nhexgrad/Kokoro-82M\\nUpdated\\nabout 21 hours ago\\n•\\n35.2k\\n•\\n2.38k\\ndeepseek-ai/DeepSeek-R1-Distill-Qwen-32B\\nUpdated\\n2 days ago\\n•\\n86.1k\\n•\\n465\\ndeepseek-ai/DeepSeek-R1-Zero\\nUpdated\\n2 days ago\\n•\\n5.42k\\n•\\n424\\ndeepseek-ai/DeepSeek-R1-Distill-Qwen-1.5B\\nUpdated\\n2 days ago\\n•\\n94k\\n•\\n366\\nBrowse 400k+ models\\nSpaces\\nRunning\\non\\nZero\\n1.52k\\n❤️\\nKokoro TTS\\nNow in 5 languages!\\nRunning\\non\\nZero\\n376\\n🌍\\nHunyuan3D-2.0\\nText-to-3D and Image-to-3D Generation\\nRunning\\non\\nZero\\n1.96k\\n📈\\nIC Light V2\\nRunning\\n241\\n🧠\\nDeepSeek-R1 WebGPU\\nNext-generation reasoning model that runs locally in-browser\\nRunning\\non\\nZero\\n3.3k\\n🏢\\nTRELLIS\\nScalable and Versatile 3D Generation from images\\nBrowse 150k+ applications\\nDatasets\\nfka/awesome-chatgpt-prompts\\nUpdated\\n20 days ago\\n•\\n6.94k\\n•\\n7.07k\\ncais/hle\\nUpdated\\n2 days ago\\n•\\n695\\n•\\n79\\nbespokelabs/Bespoke-Stratos-17k\\nUpdated\\n1 day ago\\n•\\n2.58k\\n•\\n65\\nHumanLLMs/Human-Like-DPO-Dataset\\nUpdated\\n13 days ago\\n•\\n1.7k\\n•\\n163\\nyale-nlp/MMVU\\nUpdated\\n4 days ago\\n•\\n1.88k\\n•\\n49\\nBrowse 100k+ datasets\\nThe Home of Machine Learning\\nCreate, discover and collaborate on ML better.\\nThe collaboration platform\\nHost and collaborate on unlimited public models, datasets and applications.\\nMove faster\\nWith the HF Open source stack.\\nExplore all modalities\\nText, image, video, audio or even 3D.\\nBuild your portfolio\\nShare your work with the world and build your ML profile.\\nSign Up\\nAccelerate your ML\\nWe provide paid Compute and Enterprise solutions.\\nCompute\\nDeploy on optimized\\nInference Endpoints\\nor update your\\nSpaces applications\\nto a GPU in a few clicks.\\nView pricing\\nStarting at $0.60/hour for GPU\\nEnterprise\\nGive your team the most advanced platform to build AI with enterprise-grade security, access controls and\\n\\t\\t\\tdedicated support.\\nGetting started\\nStarting at $20/user/month\\nSingle Sign-On\\nRegions\\nPriority Support\\nAudit Logs\\nResource Groups\\nPrivate Datasets Viewer\\nMore than 50,000 organizations are using Hugging Face\\nAi2\\nEnterprise\\nnon-profit\\n•\\n378 models\\n•\\n1.94k followers\\nAI at Meta\\nEnterprise\\ncompany\\n•\\n2.06k models\\n•\\n4.25k followers\\nAmazon Web Services\\ncompany\\n•\\n20 models\\n•\\n2.58k followers\\nGoogle\\ncompany\\n•\\n913 models\\n•\\n6.83k followers\\nIntel\\ncompany\\n•\\n218 models\\n•\\n2.17k followers\\nMicrosoft\\ncompany\\n•\\n353 models\\n•\\n7.68k followers\\nGrammarly\\ncompany\\n•\\n10 models\\n•\\n115 followers\\nWriter\\nEnterprise\\ncompany\\n•\\n18 models\\n•\\n200 followers\\nOur Open Source\\nWe are building the foundation of ML tooling with the community.\\nTransformers\\n137,997\\nState-of-the-art ML for Pytorch, TensorFlow, and JAX.\\nDiffusers\\n27,272\\nState-of-the-art diffusion models for image and audio generation in PyTorch.\\nSafetensors\\n3,019\\nSimple, safe way to store and distribute neural networks weights safely and quickly.\\nHub Python Library\\n2,247\\nClient library for the HF Hub: manage repositories from your Python runtime.\\nTokenizers\\n9,277\\nFast tokenizers, optimized for both research and production.\\nPEFT\\n17,062\\nParameter efficient finetuning methods for large models.\\nTransformers.js\\n12,690\\nState-of-the-art Machine Learning for the web. Run Transformers directly in your browser, with no need for a server.\\ntimm\\n32,999\\nState-of-the-art computer vision models, layers, optimizers, training/evaluation, and utilities.\\nTRL\\n10,748\\nTrain transformer language models with reinforcement learning.\\nDatasets\\n19,485\\nAccess and share datasets for computer vision, audio, and NLP tasks.\\nText Generation Inference\\n9,639\\nToolkit to serve Large Language Models.\\nAccelerate\\n8,202\\nEasily train and use PyTorch models with multi-GPU, TPU, mixed-precision.\\nSystem theme\\nWebsite\\nModels\\nDatasets\\nSpaces\\nTasks\\nInference Endpoints\\nHuggingChat\\nCompany\\nAbout\\nBrand assets\\nTerms of service\\nPrivacy\\nJobs\\nPress\\nResources\\nLearn\\nDocumentation\\nBlog\\nForum\\nService Status\\nSocial\\nGitHub\\nTwitter\\nLinkedIn\\nDiscord\\nZhihu\\nWeChat\\n\\n\\n\\nhome page\\nWebpage Title:\\nHugging Face – The AI community building the future.\\nWebpage Contents:\\nHugging Face\\nModels\\nDatasets\\nSpaces\\nPosts\\nDocs\\nEnterprise\\nPricing\\nLog In\\nSign Up\\nThe AI community building the future.\\nThe platform where the machine learning community collaborates on models, datasets, and applications.\\nTrending on\\nthis week\\nModels\\ndeepseek-ai/DeepSeek-R1\\nUpdated\\n2 days ago\\n•\\n109k\\n•\\n2.49k\\nhexgrad/Kokoro-82M\\nUpdated\\nabout 21 hours ago\\n•\\n35.2k\\n•\\n2.38k\\ndeepseek-ai/DeepSeek-R1-Distill-Qwen-32B\\nUpdated\\n2 days ago\\n•\\n86.1k\\n•\\n465\\ndeepseek-ai/DeepSeek-R1-Zero\\nUpdated\\n2 days ago\\n•\\n5.42k\\n•\\n424\\ndeepseek-ai/DeepSeek-R1-Distill-Qwen-1.5B\\nUpdated\\n2 days ag'"
      ]
     },
     "execution_count": 23,
     "metadata": {},
     "output_type": "execute_result"
    }
   ],
   "source": [
    "get_brochure_user_prompt(\"HuggingFace\", \"https://huggingface.co\")"
   ]
  },
  {
   "cell_type": "code",
   "execution_count": 24,
   "id": "e44de579-4a1a-4e6a-a510-20ea3e4b8d46",
   "metadata": {},
   "outputs": [],
   "source": [
    "def create_brochure(company_name, url):\n",
    "    response = openai.chat.completions.create(\n",
    "        model=MODEL,\n",
    "        messages=[\n",
    "            {\"role\": \"system\", \"content\": system_prompt},\n",
    "            {\"role\": \"user\", \"content\": get_brochure_user_prompt(company_name, url)}\n",
    "          ],\n",
    "    )\n",
    "    result = response.choices[0].message.content\n",
    "    display(Markdown(result))"
   ]
  },
  {
   "cell_type": "code",
   "execution_count": 25,
   "id": "e093444a-9407-42ae-924a-145730591a39",
   "metadata": {},
   "outputs": [
    {
     "name": "stdout",
     "output_type": "stream",
     "text": [
      "Found links: {'links': [{'type': 'home page', 'url': 'https://huggingface.com/'}, {'type': 'about page', 'url': 'https://huggingface.com/huggingface'}, {'type': 'careers page', 'url': 'https://apply.workable.com/huggingface/'}, {'type': 'enterprise page', 'url': 'https://huggingface.com/enterprise'}, {'type': 'pricing page', 'url': 'https://huggingface.com/pricing'}, {'type': 'blog page', 'url': 'https://huggingface.com/blog'}, {'type': 'forum page', 'url': 'https://discuss.huggingface.co'}, {'type': 'status page', 'url': 'https://status.huggingface.co/'}, {'type': 'github page', 'url': 'https://github.com/huggingface'}, {'type': 'twitter page', 'url': 'https://twitter.com/huggingface'}, {'type': 'linkedin page', 'url': 'https://www.linkedin.com/company/huggingface/'}]}\n"
     ]
    },
    {
     "data": {
      "text/markdown": [
       "# Hugging Face Company Brochure\n",
       "\n",
       "## About Us\n",
       "Welcome to **Hugging Face**, the AI community building the future! We are a leading platform for collaboration in the machine learning community, where users can come together to share and develop **models**, **datasets**, and **applications**. With over 400,000 models and 100,000 datasets available, we provide the tools needed to advance machine learning technology.\n",
       "\n",
       "## Our Offerings\n",
       "- **Models**: Explore and contribute to a diverse range of advanced AI models.\n",
       "- **Datasets**: Access comprehensive datasets for training and evaluation of machine learning models.\n",
       "- **Spaces**: Create, share, and showcase your applications with a vibrant community.\n",
       "\n",
       "## Enterprise Solutions\n",
       "We offer **Enterprise solutions** for businesses aimed at enhancing their AI initiatives with:\n",
       "- Dedicated support and enterprise-grade security\n",
       "- Access to optimized compute infrastructure\n",
       "- Custom features to meet your team's needs\n",
       "\n",
       "**Starting at just $20/user/month**, organizations can leverage our powerful platform for their AI projects.\n",
       "\n",
       "## Customers\n",
       "More than **50,000 organizations** trust Hugging Face, including industry leaders such as:\n",
       "- **Meta**\n",
       "- **Amazon Web Services**\n",
       "- **Google**\n",
       "- **Microsoft**\n",
       "- **Intel**\n",
       "- **Grammarly**\n",
       "\n",
       "## Company Culture\n",
       "At Hugging Face, we pride ourselves on a **collaborative and inclusive culture**. Our team is passionate about open-source technology and believes in the power of community to drive innovation. We encourage creativity, diverse ideas, and continuous learning as we strive to push the boundaries of what AI can do.\n",
       "\n",
       "## Careers at Hugging Face\n",
       "We are always on the lookout for talented individuals to join our team. If you're passionate about AI and want to be part of a community that shapes the future, check out our careers page for job openings that match your skills and aspirations.\n",
       "\n",
       "- **Learn More**: Join our community on [GitHub](https://github.com) or follow us on [Twitter](https://twitter.com) and [LinkedIn](https://linkedin.com) for the latest updates and openings.\n",
       "\n",
       "### Join Us!\n",
       "Are you ready to accelerate your machine learning journey? Sign up today on our platform to start collaborating, sharing, and building the future of AI! \n",
       "\n",
       "For more information, visit our [website](https://huggingface.co).\n",
       "\n",
       "---\n",
       "\n",
       "**Hugging Face** - The AI community building the future."
      ],
      "text/plain": [
       "<IPython.core.display.Markdown object>"
      ]
     },
     "metadata": {},
     "output_type": "display_data"
    }
   ],
   "source": [
    "create_brochure(\"HuggingFace\", \"https://huggingface.co\")"
   ]
  },
  {
   "cell_type": "markdown",
   "id": "61eaaab7-0b47-4b29-82d4-75d474ad8d18",
   "metadata": {},
   "source": [
    "## Finally - a minor improvement\n",
    "\n",
    "With a small adjustment, we can change this so that the results stream back from OpenAI,\n",
    "with the familiar typewriter animation"
   ]
  },
  {
   "cell_type": "code",
   "execution_count": 26,
   "id": "51db0e49-f261-4137-aabe-92dd601f7725",
   "metadata": {},
   "outputs": [],
   "source": [
    "def stream_brochure(company_name, url):\n",
    "    stream = openai.chat.completions.create(\n",
    "        model=MODEL,\n",
    "        messages=[\n",
    "            {\"role\": \"system\", \"content\": system_prompt},\n",
    "            {\"role\": \"user\", \"content\": get_brochure_user_prompt(company_name, url)}\n",
    "          ],\n",
    "        stream=True\n",
    "    )\n",
    "    \n",
    "    response = \"\"\n",
    "    display_handle = display(Markdown(\"\"), display_id=True)\n",
    "    for chunk in stream:\n",
    "        response += chunk.choices[0].delta.content or ''\n",
    "        response = response.replace(\"```\",\"\").replace(\"markdown\", \"\")\n",
    "        update_display(Markdown(response), display_id=display_handle.display_id)"
   ]
  },
  {
   "cell_type": "code",
   "execution_count": 28,
   "id": "56bf0ae3-ee9d-4a72-9cd6-edcac67ceb6d",
   "metadata": {},
   "outputs": [
    {
     "name": "stdout",
     "output_type": "stream",
     "text": [
      "Found links: {'links': [{'type': 'home page', 'url': 'https://huggingface.co/'}, {'type': 'models page', 'url': 'https://huggingface.co/models'}, {'type': 'datasets page', 'url': 'https://huggingface.co/datasets'}, {'type': 'spaces page', 'url': 'https://huggingface.co/spaces'}, {'type': 'enterprise page', 'url': 'https://huggingface.co/enterprise'}, {'type': 'pricing page', 'url': 'https://huggingface.co/pricing'}, {'type': 'documentation page', 'url': 'https://huggingface.co/docs'}, {'type': 'blog page', 'url': 'https://huggingface.co/blog'}, {'type': 'careers page', 'url': 'https://apply.workable.com/huggingface/'}, {'type': 'community page', 'url': 'https://discuss.huggingface.co'}, {'type': 'GitHub page', 'url': 'https://github.com/huggingface'}, {'type': 'LinkedIn page', 'url': 'https://www.linkedin.com/company/huggingface/'}, {'type': 'Twitter page', 'url': 'https://twitter.com/huggingface'}, {'type': 'learn page', 'url': 'https://huggingface.co/learn'}]}\n"
     ]
    },
    {
     "data": {
      "text/markdown": [
       "# Hugging Face Brochure\n",
       "\n",
       "---\n",
       "\n",
       "## About Us\n",
       "**Hugging Face** is a pioneering AI community dedicated to building the future of machine learning through collaboration. Our platform allows developers, researchers, and enthusiasts to share and work on models, datasets, and applications, creating an ecosystem where innovation thrives. \n",
       "\n",
       "## Our Offerings\n",
       "- **Models**: Access over **400,000 models**, including popular choices like **DeepSeek-R1** and applications across various domains.\n",
       "- **Datasets**: Browse **100,000+ datasets** suitable for different machine learning needs, from natural language processing to computer vision.\n",
       "- **Spaces**: Create and host applications seamlessly. Our **Spaces** feature allows for interactive demos and applications using machine learning models.\n",
       "\n",
       "## Community\n",
       "We pride ourselves on being \"The Home of Machine Learning.\" Hugging Face empowers more than **50,000 organizations**, including industry leaders like **Google**, **Microsoft**, and **Amazon Web Services**. Our community includes individuals and teams from non-profits and enterprises alike, collaborating to accelerate their projects.\n",
       "\n",
       "## Company Culture\n",
       "We believe in open-source, collaboration, and transparency. Our community-driven culture fosters an environment where diverse talents can come together to enhance machine learning tools and technologies. From casual interactions in our forums to collaborative projects, we encourage creativity and innovation.\n",
       "\n",
       "## Careers\n",
       "Join our growing team passionate about AI and machine learning! We offer opportunities across various roles, from engineering and product management to customer success and marketing. At Hugging Face, we prioritize creating a supportive and inclusive workplace where every voice is heard.\n",
       "\n",
       "For a detailed job listing and to learn more, visit our [Careers page](#).\n",
       "\n",
       "## Pricing\n",
       "We offer accessible solutions with the following starting prices:\n",
       "- **Compute**: Starting at $0.60/hour for GPU.\n",
       "- **Enterprise Solutions**: Starting at $20/user/month, equipped with enterprise-grade security and dedicated support.\n",
       "\n",
       "---\n",
       "\n",
       "**Join Us**  \n",
       "Contribute to the future of AI with Hugging Face. Whether you’re a developer looking to showcase your models, a business seeking enterprise solutions, or a recruit aiming to be part of an innovative team, we welcome you!\n",
       "\n",
       "--- \n",
       "\n",
       "For more information, visit our website at [Hugging Face](https://huggingface.co) or connect with us on [Twitter](#), [LinkedIn](#), and [Discord](#).  \n",
       "\n",
       "Together, let's build the future of AI!"
      ],
      "text/plain": [
       "<IPython.core.display.Markdown object>"
      ]
     },
     "metadata": {},
     "output_type": "display_data"
    }
   ],
   "source": [
    "stream_brochure(\"HuggingFace\", \"https://huggingface.co\")"
   ]
  },
  {
   "cell_type": "code",
   "execution_count": 30,
   "id": "fdb3f8d8-a3eb-41c8-b1aa-9f60686a653b",
   "metadata": {},
   "outputs": [
    {
     "name": "stdout",
     "output_type": "stream",
     "text": [
      "Found links: {'links': [{'type': 'home page', 'url': 'https://huggingface.co/'}, {'type': 'models page', 'url': 'https://huggingface.co/models'}, {'type': 'datasets page', 'url': 'https://huggingface.co/datasets'}, {'type': 'spaces page', 'url': 'https://huggingface.co/spaces'}, {'type': 'enterprise page', 'url': 'https://huggingface.co/enterprise'}, {'type': 'pricing page', 'url': 'https://huggingface.co/pricing'}, {'type': 'documentation page', 'url': 'https://huggingface.co/docs'}, {'type': 'blog page', 'url': 'https://huggingface.co/blog'}, {'type': 'careers page', 'url': 'https://apply.workable.com/huggingface/'}, {'type': 'community discussion', 'url': 'https://discuss.huggingface.co'}, {'type': 'GitHub page', 'url': 'https://github.com/huggingface'}, {'type': 'LinkedIn page', 'url': 'https://www.linkedin.com/company/huggingface/'}, {'type': 'Twitter page', 'url': 'https://twitter.com/huggingface'}, {'type': 'learn page', 'url': 'https://huggingface.co/learn'}]}\n"
     ]
    },
    {
     "data": {
      "text/markdown": [
       "\n",
       "# Welcome to Hugging Face: Where AI Hugs You Back!\n",
       "\n",
       "## 🤖 Join the AI Revolution!\n",
       "Oh, hey there! Are you ready to join the most *hug-tastic* community on the planet? That's right—Hugging Face is where the AI wizards, data nerds, and machine learning aficionados gather to create, collaborate, and occasionally snack on data cookies. We’re building the future, one model at a time, and we promise it’s a whole lot better than your last Zoom call!\n",
       "\n",
       "---\n",
       "\n",
       "## 🎉 The Hugging Face Culture\n",
       "\n",
       "### **Our Motto: Share a Model, Share a Hug!**\n",
       "At Hugging Face, we live by the rule that sharing is caring! Whether you’re a lone wolf coder or part of a massive enterprise (just like Amazon, Google, and *that* friend who won't stop talking about their “latest data obsession”), everyone’s welcome. \n",
       "\n",
       "### **Feeling Chill?**\n",
       "- **Friday Game Nights**: Nothing says “AI breakthrough” like a rousing game of Among Us or a round of virtual ping pong. \n",
       "- **Snack Club**: Yes, we have data cookies. And yes, you have to bring your own cookies to join.\n",
       "\n",
       "---\n",
       "\n",
       "## 🌍 Who do we serve? \n",
       "\n",
       "With over **50,000 organizations** on board, including some really big kids like Microsoft, Grammarly, and even your uncle's tech startup, we’re the playground where machine learning meets imagination. Our customers range from individual AI pioneers to multinational tech giants. Basically, if you like nerdy stuff and believe in the potential of AI, then you're our kind of people!\n",
       "\n",
       "---\n",
       "\n",
       "## 💼 Career Opportunities: The More the Merrier!\n",
       "\n",
       "### **Spotlight: The Hugging Face Team!** \n",
       "Want to be part of a community that’s as diverse as the datasets we manage? We’re looking for talented folks to join our family! Here’s what you might do:\n",
       "- **Model Wrangler**: Do you have what it takes to train the next breakthrough AI model? We need you to help tame the wild world of algorithms!\n",
       "- **Dataset Diva/Dude**: Filter through endless data while wearing your favorite data-processing superhero cape. \n",
       "- **Collaboration Wizard**: Help companies embrace their inner hugger—because let’s face it, every company needs a great hug!\n",
       "\n",
       "## 🤗 Let’s Get Started!\n",
       "\n",
       "### **Hugging Face Open Beta:**\n",
       "- Sign up for FREE and unlock the door to a treasure trove of **400k+ models**, **100k+ datasets**, and something even more elusive—team spirit!\n",
       "- Your journey on this platform can lead to **GPU-powered dreams** starting at just **$0.60/hour**!\n",
       "\n",
       "---\n",
       "\n",
       "## ✨ The Future Awaits\n",
       "\n",
       "So, whether you’re looking to sharpen your AI skills, create epic models, or just trying to figure out what a “transformer” really is (not the robot kind), we’ve got you covered! Join us, and remember: We don’t just build AI; we give it the best hugs in the industry!\n",
       "\n",
       "### **Come on, let’s Hug it Out!**\n",
       "\n"
      ],
      "text/plain": [
       "<IPython.core.display.Markdown object>"
      ]
     },
     "metadata": {},
     "output_type": "display_data"
    }
   ],
   "source": [
    "# Try changing the system prompt to the humorous version when you make the Brochure for Hugging Face:\n",
    "\n",
    "stream_brochure(\"HuggingFace\", \"https://huggingface.co\")"
   ]
  },
  {
   "cell_type": "markdown",
   "id": "a27bf9e0-665f-4645-b66b-9725e2a959b5",
   "metadata": {},
   "source": [
    "<table style=\"margin: 0; text-align: left;\">\n",
    "    <tr>\n",
    "        <td style=\"width: 150px; height: 150px; vertical-align: middle;\">\n",
    "            <img src=\"../business.jpg\" width=\"150\" height=\"150\" style=\"display: block;\" />\n",
    "        </td>\n",
    "        <td>\n",
    "            <h2 style=\"color:#181;\">Business applications</h2>\n",
    "            <span style=\"color:#181;\">In this exercise we extended the Day 1 code to make multiple LLM calls, and generate a document.\n",
    "\n",
    "This is perhaps the first example of Agentic AI design patterns, as we combined multiple calls to LLMs. This will feature more in Week 2, and then we will return to Agentic AI in a big way in Week 8 when we build a fully autonomous Agent solution.\n",
    "\n",
    "Generating content in this way is one of the very most common Use Cases. As with summarization, this can be applied to any business vertical. Write marketing content, generate a product tutorial from a spec, create personalized email content, and so much more. Explore how you can apply content generation to your business, and try making yourself a proof-of-concept prototype. See what other students have done in the community-contributions folder -- so many valuable projects -- it's wild!</span>\n",
    "        </td>\n",
    "    </tr>\n",
    "</table>"
   ]
  },
  {
   "cell_type": "markdown",
   "id": "14b2454b-8ef8-4b5c-b928-053a15e0d553",
   "metadata": {},
   "source": [
    "<table style=\"margin: 0; text-align: left;\">\n",
    "    <tr>\n",
    "        <td style=\"width: 150px; height: 150px; vertical-align: middle;\">\n",
    "            <img src=\"../important.jpg\" width=\"150\" height=\"150\" style=\"display: block;\" />\n",
    "        </td>\n",
    "        <td>\n",
    "            <h2 style=\"color:#900;\">Before you move to Week 2 (which is tons of fun)</h2>\n",
    "            <span style=\"color:#900;\">Please see the week1 EXERCISE notebook for your challenge for the end of week 1. This will give you some essential practice working with Frontier APIs, and prepare you well for Week 2.</span>\n",
    "        </td>\n",
    "    </tr>\n",
    "</table>"
   ]
  },
  {
   "cell_type": "markdown",
   "id": "17b64f0f-7d33-4493-985a-033d06e8db08",
   "metadata": {},
   "source": [
    "<table style=\"margin: 0; text-align: left;\">\n",
    "    <tr>\n",
    "        <td style=\"width: 150px; height: 150px; vertical-align: middle;\">\n",
    "            <img src=\"../resources.jpg\" width=\"150\" height=\"150\" style=\"display: block;\" />\n",
    "        </td>\n",
    "        <td>\n",
    "            <h2 style=\"color:#f71;\">A reminder on 3 useful resources</h2>\n",
    "            <span style=\"color:#f71;\">1. The resources for the course are available <a href=\"https://edwarddonner.com/2024/11/13/llm-engineering-resources/\">here.</a><br/>\n",
    "            2. I'm on LinkedIn <a href=\"https://www.linkedin.com/in/eddonner/\">here</a> and I love connecting with people taking the course!<br/>\n",
    "            3. I'm trying out X/Twitter and I'm at <a href=\"https://x.com/edwarddonner\">@edwarddonner<a> and hoping people will teach me how it's done..  \n",
    "            </span>\n",
    "        </td>\n",
    "    </tr>\n",
    "</table>"
   ]
  },
  {
   "cell_type": "markdown",
   "id": "6f48e42e-fa7a-495f-a5d4-26bfc24d60b6",
   "metadata": {},
   "source": [
    "<table style=\"margin: 0; text-align: left;\">\n",
    "    <tr>\n",
    "        <td style=\"width: 150px; height: 150px; vertical-align: middle;\">\n",
    "            <img src=\"../thankyou.jpg\" width=\"150\" height=\"150\" style=\"display: block;\" />\n",
    "        </td>\n",
    "        <td>\n",
    "            <h2 style=\"color:#090;\">Finally! I have a special request for you</h2>\n",
    "            <span style=\"color:#090;\">\n",
    "                My editor tells me that it makes a MASSIVE difference when students rate this course on Udemy - it's one of the main ways that Udemy decides whether to show it to others. If you're able to take a minute to rate this, I'd be so very grateful! And regardless - always please reach out to me at ed@edwarddonner.com if I can help at any point.\n",
    "            </span>\n",
    "        </td>\n",
    "    </tr>\n",
    "</table>"
   ]
  },
  {
   "cell_type": "code",
   "execution_count": null,
   "id": "b8d3e1a1-ba54-4907-97c5-30f89a24775b",
   "metadata": {},
   "outputs": [],
   "source": []
  }
 ],
 "metadata": {
  "kernelspec": {
   "display_name": "Python 3 (ipykernel)",
   "language": "python",
   "name": "python3"
  },
  "language_info": {
   "codemirror_mode": {
    "name": "ipython",
    "version": 3
   },
   "file_extension": ".py",
   "mimetype": "text/x-python",
   "name": "python",
   "nbconvert_exporter": "python",
   "pygments_lexer": "ipython3",
   "version": "3.11.11"
  }
 },
 "nbformat": 4,
 "nbformat_minor": 5
}
